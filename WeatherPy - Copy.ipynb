{
 "cells": [
  {
   "cell_type": "code",
   "execution_count": 5,
   "metadata": {},
   "outputs": [],
   "source": [
    "# Dependencies Test\n",
    "import random\n",
    "import requests\n",
    "import pandas as pd\n",
    "import time\n",
    "import openweathermapy.core as owm\n",
    "import matplotlib.pyplot as plt\n",
    "from config import api_key\n",
    "from citipy import citipy\n",
    "import numpy as np\n",
    "import csv"
   ]
  },
  {
   "cell_type": "code",
   "execution_count": 11,
   "metadata": {},
   "outputs": [
    {
     "name": "stdout",
     "output_type": "stream",
     "text": [
      "http://api.openweathermap.org/data/2.5/weather?&q=callaway&appid=9c4bb9576cd41932b37e7ede0d5c7753\n",
      "City Id:  5024237\n",
      "City Name:  Callaway\n",
      "http://api.openweathermap.org/data/2.5/weather?&q=callaway&appid=9c4bb9576cd41932b37e7ede0d5c7753\n",
      "City Id:  5024237\n",
      "City Name:  Callaway\n",
      "http://api.openweathermap.org/data/2.5/weather?&q=callaway&appid=9c4bb9576cd41932b37e7ede0d5c7753\n",
      "City Id:  5024237\n",
      "City Name:  Callaway\n",
      "http://api.openweathermap.org/data/2.5/weather?&q=callaway&appid=9c4bb9576cd41932b37e7ede0d5c7753\n",
      "City Id:  5024237\n",
      "City Name:  Callaway\n",
      "http://api.openweathermap.org/data/2.5/weather?&q=callaway&appid=9c4bb9576cd41932b37e7ede0d5c7753\n",
      "City Id:  5024237\n",
      "City Name:  Callaway\n",
      "http://api.openweathermap.org/data/2.5/weather?&q=bredasdorp&appid=9c4bb9576cd41932b37e7ede0d5c7753\n",
      "City Id:  1015776\n",
      "City Name:  Bredasdorp\n",
      "http://api.openweathermap.org/data/2.5/weather?&q=callaway&appid=9c4bb9576cd41932b37e7ede0d5c7753\n",
      "City Id:  5024237\n",
      "City Name:  Callaway\n",
      "http://api.openweathermap.org/data/2.5/weather?&q=bredasdorp&appid=9c4bb9576cd41932b37e7ede0d5c7753\n",
      "City Id:  1015776\n",
      "City Name:  Bredasdorp\n",
      "http://api.openweathermap.org/data/2.5/weather?&q=callaway&appid=9c4bb9576cd41932b37e7ede0d5c7753\n",
      "City Id:  5024237\n",
      "City Name:  Callaway\n",
      "http://api.openweathermap.org/data/2.5/weather?&q=bredasdorp&appid=9c4bb9576cd41932b37e7ede0d5c7753\n",
      "City Id:  1015776\n",
      "City Name:  Bredasdorp\n",
      "http://api.openweathermap.org/data/2.5/weather?&q=salinopolis&appid=9c4bb9576cd41932b37e7ede0d5c7753\n",
      "City Id:  3389822\n",
      "City Name:  Salinopolis\n",
      "http://api.openweathermap.org/data/2.5/weather?&q=callaway&appid=9c4bb9576cd41932b37e7ede0d5c7753\n",
      "City Id:  5024237\n",
      "City Name:  Callaway\n",
      "http://api.openweathermap.org/data/2.5/weather?&q=bredasdorp&appid=9c4bb9576cd41932b37e7ede0d5c7753\n",
      "City Id:  1015776\n",
      "City Name:  Bredasdorp\n",
      "http://api.openweathermap.org/data/2.5/weather?&q=salinopolis&appid=9c4bb9576cd41932b37e7ede0d5c7753\n",
      "City Id:  3389822\n",
      "City Name:  Salinopolis\n",
      "http://api.openweathermap.org/data/2.5/weather?&q=ushuaia&appid=9c4bb9576cd41932b37e7ede0d5c7753\n",
      "City Id:  3833367\n",
      "City Name:  Ushuaia\n",
      "http://api.openweathermap.org/data/2.5/weather?&q=callaway&appid=9c4bb9576cd41932b37e7ede0d5c7753\n",
      "City Id:  5024237\n",
      "City Name:  Callaway\n",
      "http://api.openweathermap.org/data/2.5/weather?&q=bredasdorp&appid=9c4bb9576cd41932b37e7ede0d5c7753\n",
      "City Id:  1015776\n",
      "City Name:  Bredasdorp\n",
      "http://api.openweathermap.org/data/2.5/weather?&q=salinopolis&appid=9c4bb9576cd41932b37e7ede0d5c7753\n",
      "City Id:  3389822\n",
      "City Name:  Salinopolis\n",
      "http://api.openweathermap.org/data/2.5/weather?&q=ushuaia&appid=9c4bb9576cd41932b37e7ede0d5c7753\n",
      "City Id:  3833367\n",
      "City Name:  Ushuaia\n",
      "http://api.openweathermap.org/data/2.5/weather?&q=callaway&appid=9c4bb9576cd41932b37e7ede0d5c7753\n",
      "City Id:  5024237\n",
      "City Name:  Callaway\n",
      "http://api.openweathermap.org/data/2.5/weather?&q=bredasdorp&appid=9c4bb9576cd41932b37e7ede0d5c7753\n",
      "City Id:  1015776\n",
      "City Name:  Bredasdorp\n",
      "http://api.openweathermap.org/data/2.5/weather?&q=salinopolis&appid=9c4bb9576cd41932b37e7ede0d5c7753\n",
      "City Id:  3389822\n",
      "City Name:  Salinopolis\n",
      "http://api.openweathermap.org/data/2.5/weather?&q=ushuaia&appid=9c4bb9576cd41932b37e7ede0d5c7753\n",
      "City Id:  3833367\n",
      "City Name:  Ushuaia\n",
      "http://api.openweathermap.org/data/2.5/weather?&q=callaway&appid=9c4bb9576cd41932b37e7ede0d5c7753\n",
      "City Id:  5024237\n",
      "City Name:  Callaway\n",
      "http://api.openweathermap.org/data/2.5/weather?&q=bredasdorp&appid=9c4bb9576cd41932b37e7ede0d5c7753\n",
      "City Id:  1015776\n",
      "City Name:  Bredasdorp\n",
      "http://api.openweathermap.org/data/2.5/weather?&q=salinopolis&appid=9c4bb9576cd41932b37e7ede0d5c7753\n",
      "City Id:  3389822\n",
      "City Name:  Salinopolis\n",
      "http://api.openweathermap.org/data/2.5/weather?&q=ushuaia&appid=9c4bb9576cd41932b37e7ede0d5c7753\n",
      "City Id:  3833367\n",
      "City Name:  Ushuaia\n",
      "http://api.openweathermap.org/data/2.5/weather?&q=codrington&appid=9c4bb9576cd41932b37e7ede0d5c7753\n",
      "City Id:  2160063\n",
      "City Name:  Codrington\n"
     ]
    }
   ],
   "source": [
    "cityname1 = {\"Latitude\":[],\"Longitude\":[],\"City\":[],\"Temperature\":[],\"Humidity\":[],\"Cloudiness\":[],\"Wind Speed\":[]}\n",
    "citycoordinates = []\n",
    "lon1 =[]\n",
    "while (len(citycoordinates)<=10):\n",
    "    tempLon = random.uniform(-180,180)\n",
    "    if tempLon not in lon1:\n",
    "        lon1.append(tempLon)\n",
    "        tempLat = random.uniform(-90,90)\n",
    "    else:\n",
    "        pass\n",
    "    tempcity = citipy.nearest_city(tempLat, tempLon)\n",
    "    if tempcity not in citycoordinates:\n",
    "        citycoordinates.append(tempcity)\n",
    "        name = tempcity.city_name\n",
    "        cityname1[\"City\"].append(name)\n",
    "        cityname1[\"Latitude\"].append(tempLat)\n",
    "        cityname1[\"Longitude\"].append(tempLon)\n",
    "    else:\n",
    "        pass\n",
    "    for city in cityname1[\"City\"]:\n",
    "        url = \"http://api.openweathermap.org/data/2.5/weather?\"\n",
    "        query_url = url + \"&q=\" + city + \"&appid=\" + api_key\n",
    "        response = requests.get(query_url).json()\n",
    "        status_code = response['cod']\n",
    "\n",
    "        if status_code == 200:\n",
    "            cityname1[\"Temperature\"].append(response['main']['temp'])\n",
    "            cityname1[\"Humidity\"].append(response['main']['humidity'])\n",
    "            cityname1[\"Cloudiness\"].append(response['clouds']['all'])\n",
    "            cityname1[\"Wind Speed\"].append(response['wind']['speed'])\n",
    "            print(query_url)\n",
    "            print(\"City Id: \" , response[\"id\"])\n",
    "            print(\"City Name: \" , response[\"name\"])\n",
    "            time.sleep(1)\n",
    "        else:\n",
    "            cityname1[\"Temperature\"].append(\"NAN\")\n",
    "            cityname1[\"Humidity\"].append(\"NAN\")\n",
    "            cityname1[\"Cloudiness\"].append(\"NAN\")\n",
    "            cityname1[\"Wind Speed\"].append(\"NAN\")"
   ]
  },
  {
   "cell_type": "code",
   "execution_count": 12,
   "metadata": {},
   "outputs": [
    {
     "name": "stdout",
     "output_type": "stream",
     "text": [
      "http://api.openweathermap.org/data/2.5/weather?&q=callaway&appid=9c4bb9576cd41932b37e7ede0d5c7753\n",
      "City Id:  5024237\n",
      "City Name:  Callaway\n",
      "http://api.openweathermap.org/data/2.5/weather?&q=bredasdorp&appid=9c4bb9576cd41932b37e7ede0d5c7753\n",
      "City Id:  1015776\n",
      "City Name:  Bredasdorp\n",
      "http://api.openweathermap.org/data/2.5/weather?&q=salinopolis&appid=9c4bb9576cd41932b37e7ede0d5c7753\n",
      "City Id:  3389822\n",
      "City Name:  Salinopolis\n",
      "http://api.openweathermap.org/data/2.5/weather?&q=ushuaia&appid=9c4bb9576cd41932b37e7ede0d5c7753\n",
      "City Id:  3833367\n",
      "City Name:  Ushuaia\n",
      "http://api.openweathermap.org/data/2.5/weather?&q=codrington&appid=9c4bb9576cd41932b37e7ede0d5c7753\n",
      "City Id:  2160063\n",
      "City Name:  Codrington\n",
      "--- 6.413450717926025 seconds ---\n"
     ]
    }
   ],
   "source": [
    "start_time = time.time()\n",
    "for city in cityname1[\"City\"]:\n",
    "    url = \"http://api.openweathermap.org/data/2.5/weather?\"\n",
    "    query_url = url + \"&q=\" + city + \"&appid=\" + api_key\n",
    "    response = requests.get(query_url).json()\n",
    "    status_code = response['cod']\n",
    "    \n",
    "    if status_code == 200:\n",
    "        cityname1[\"Temperature\"].append(response['main']['temp'])\n",
    "        cityname1[\"Humidity\"].append(response['main']['humidity'])\n",
    "        cityname1[\"Cloudiness\"].append(response['clouds']['all'])\n",
    "        cityname1[\"Wind Speed\"].append(response['wind']['speed'])\n",
    "        print(query_url)\n",
    "        print(\"City Id: \" , response[\"id\"])\n",
    "        print(\"City Name: \" , response[\"name\"])\n",
    "        time.sleep(1)\n",
    "    else:\n",
    "        cityname1[\"Temperature\"].append(\"NAN\")\n",
    "        cityname1[\"Humidity\"].append(\"NAN\")\n",
    "        cityname1[\"Cloudiness\"].append(\"NAN\")\n",
    "        cityname1[\"Wind Speed\"].append(\"NAN\")\n",
    "print(\"--- %s seconds ---\" % (time.time() - start_time))"
   ]
  },
  {
   "cell_type": "code",
   "execution_count": 115,
   "metadata": {},
   "outputs": [
    {
     "ename": "AttributeError",
     "evalue": "'dict' object has no attribute 'dropna'",
     "output_type": "error",
     "traceback": [
      "\u001b[1;31m---------------------------------------------------------------------------\u001b[0m",
      "\u001b[1;31mAttributeError\u001b[0m                            Traceback (most recent call last)",
      "\u001b[1;32m<ipython-input-115-676f51e94428>\u001b[0m in \u001b[0;36m<module>\u001b[1;34m()\u001b[0m\n\u001b[1;32m----> 1\u001b[1;33m \u001b[0mhelp\u001b[0m\u001b[1;33m(\u001b[0m\u001b[0mcityname1\u001b[0m\u001b[1;33m.\u001b[0m\u001b[0mdropna\u001b[0m\u001b[1;33m)\u001b[0m\u001b[1;33m\u001b[0m\u001b[0m\n\u001b[0m",
      "\u001b[1;31mAttributeError\u001b[0m: 'dict' object has no attribute 'dropna'"
     ]
    }
   ],
   "source": []
  },
  {
   "cell_type": "code",
   "execution_count": 123,
   "metadata": {},
   "outputs": [
    {
     "ename": "ValueError",
     "evalue": "arrays must all be same length",
     "output_type": "error",
     "traceback": [
      "\u001b[1;31m---------------------------------------------------------------------------\u001b[0m",
      "\u001b[1;31mValueError\u001b[0m                                Traceback (most recent call last)",
      "\u001b[1;32m<ipython-input-123-4a20dda5e1dd>\u001b[0m in \u001b[0;36m<module>\u001b[1;34m()\u001b[0m\n\u001b[0;32m      1\u001b[0m \u001b[1;31m# Convert gathered data to Dataframe and save to CSV file\u001b[0m\u001b[1;33m\u001b[0m\u001b[1;33m\u001b[0m\u001b[0m\n\u001b[1;32m----> 2\u001b[1;33m \u001b[0mcityname1\u001b[0m \u001b[1;33m=\u001b[0m \u001b[0mpd\u001b[0m\u001b[1;33m.\u001b[0m\u001b[0mDataFrame\u001b[0m\u001b[1;33m(\u001b[0m\u001b[0mcityname1\u001b[0m\u001b[1;33m)\u001b[0m\u001b[1;33m\u001b[0m\u001b[0m\n\u001b[0m\u001b[0;32m      3\u001b[0m \u001b[0mcityname1\u001b[0m\u001b[1;33m[\u001b[0m\u001b[1;34m\"Wind Speed\"\u001b[0m\u001b[1;33m]\u001b[0m \u001b[1;33m=\u001b[0m \u001b[0mcityname1\u001b[0m\u001b[1;33m[\u001b[0m\u001b[1;34m\"Wind Speed\"\u001b[0m\u001b[1;33m]\u001b[0m \u001b[1;33m*\u001b[0m\u001b[1;36m60\u001b[0m\u001b[1;33m\u001b[0m\u001b[0m\n\u001b[0;32m      4\u001b[0m \u001b[0mcityname1\u001b[0m\u001b[1;33m.\u001b[0m\u001b[0mto_csv\u001b[0m\u001b[1;33m(\u001b[0m\u001b[1;34m'Results.csv'\u001b[0m\u001b[1;33m,\u001b[0m \u001b[0msep\u001b[0m\u001b[1;33m=\u001b[0m\u001b[1;34m','\u001b[0m\u001b[1;33m,\u001b[0m \u001b[0mencoding\u001b[0m\u001b[1;33m=\u001b[0m\u001b[1;34m'utf-8'\u001b[0m\u001b[1;33m,\u001b[0m\u001b[0mindex\u001b[0m\u001b[1;33m=\u001b[0m\u001b[1;32mFalse\u001b[0m\u001b[1;33m)\u001b[0m\u001b[1;33m\u001b[0m\u001b[0m\n",
      "\u001b[1;32m~\\Anaconda3\\envs\\PythonData\\lib\\site-packages\\pandas\\core\\frame.py\u001b[0m in \u001b[0;36m__init__\u001b[1;34m(self, data, index, columns, dtype, copy)\u001b[0m\n\u001b[0;32m    328\u001b[0m                                  dtype=dtype, copy=copy)\n\u001b[0;32m    329\u001b[0m         \u001b[1;32melif\u001b[0m \u001b[0misinstance\u001b[0m\u001b[1;33m(\u001b[0m\u001b[0mdata\u001b[0m\u001b[1;33m,\u001b[0m \u001b[0mdict\u001b[0m\u001b[1;33m)\u001b[0m\u001b[1;33m:\u001b[0m\u001b[1;33m\u001b[0m\u001b[0m\n\u001b[1;32m--> 330\u001b[1;33m             \u001b[0mmgr\u001b[0m \u001b[1;33m=\u001b[0m \u001b[0mself\u001b[0m\u001b[1;33m.\u001b[0m\u001b[0m_init_dict\u001b[0m\u001b[1;33m(\u001b[0m\u001b[0mdata\u001b[0m\u001b[1;33m,\u001b[0m \u001b[0mindex\u001b[0m\u001b[1;33m,\u001b[0m \u001b[0mcolumns\u001b[0m\u001b[1;33m,\u001b[0m \u001b[0mdtype\u001b[0m\u001b[1;33m=\u001b[0m\u001b[0mdtype\u001b[0m\u001b[1;33m)\u001b[0m\u001b[1;33m\u001b[0m\u001b[0m\n\u001b[0m\u001b[0;32m    331\u001b[0m         \u001b[1;32melif\u001b[0m \u001b[0misinstance\u001b[0m\u001b[1;33m(\u001b[0m\u001b[0mdata\u001b[0m\u001b[1;33m,\u001b[0m \u001b[0mma\u001b[0m\u001b[1;33m.\u001b[0m\u001b[0mMaskedArray\u001b[0m\u001b[1;33m)\u001b[0m\u001b[1;33m:\u001b[0m\u001b[1;33m\u001b[0m\u001b[0m\n\u001b[0;32m    332\u001b[0m             \u001b[1;32mimport\u001b[0m \u001b[0mnumpy\u001b[0m\u001b[1;33m.\u001b[0m\u001b[0mma\u001b[0m\u001b[1;33m.\u001b[0m\u001b[0mmrecords\u001b[0m \u001b[1;32mas\u001b[0m \u001b[0mmrecords\u001b[0m\u001b[1;33m\u001b[0m\u001b[0m\n",
      "\u001b[1;32m~\\Anaconda3\\envs\\PythonData\\lib\\site-packages\\pandas\\core\\frame.py\u001b[0m in \u001b[0;36m_init_dict\u001b[1;34m(self, data, index, columns, dtype)\u001b[0m\n\u001b[0;32m    459\u001b[0m             \u001b[0marrays\u001b[0m \u001b[1;33m=\u001b[0m \u001b[1;33m[\u001b[0m\u001b[0mdata\u001b[0m\u001b[1;33m[\u001b[0m\u001b[0mk\u001b[0m\u001b[1;33m]\u001b[0m \u001b[1;32mfor\u001b[0m \u001b[0mk\u001b[0m \u001b[1;32min\u001b[0m \u001b[0mkeys\u001b[0m\u001b[1;33m]\u001b[0m\u001b[1;33m\u001b[0m\u001b[0m\n\u001b[0;32m    460\u001b[0m \u001b[1;33m\u001b[0m\u001b[0m\n\u001b[1;32m--> 461\u001b[1;33m         \u001b[1;32mreturn\u001b[0m \u001b[0m_arrays_to_mgr\u001b[0m\u001b[1;33m(\u001b[0m\u001b[0marrays\u001b[0m\u001b[1;33m,\u001b[0m \u001b[0mdata_names\u001b[0m\u001b[1;33m,\u001b[0m \u001b[0mindex\u001b[0m\u001b[1;33m,\u001b[0m \u001b[0mcolumns\u001b[0m\u001b[1;33m,\u001b[0m \u001b[0mdtype\u001b[0m\u001b[1;33m=\u001b[0m\u001b[0mdtype\u001b[0m\u001b[1;33m)\u001b[0m\u001b[1;33m\u001b[0m\u001b[0m\n\u001b[0m\u001b[0;32m    462\u001b[0m \u001b[1;33m\u001b[0m\u001b[0m\n\u001b[0;32m    463\u001b[0m     \u001b[1;32mdef\u001b[0m \u001b[0m_init_ndarray\u001b[0m\u001b[1;33m(\u001b[0m\u001b[0mself\u001b[0m\u001b[1;33m,\u001b[0m \u001b[0mvalues\u001b[0m\u001b[1;33m,\u001b[0m \u001b[0mindex\u001b[0m\u001b[1;33m,\u001b[0m \u001b[0mcolumns\u001b[0m\u001b[1;33m,\u001b[0m \u001b[0mdtype\u001b[0m\u001b[1;33m=\u001b[0m\u001b[1;32mNone\u001b[0m\u001b[1;33m,\u001b[0m \u001b[0mcopy\u001b[0m\u001b[1;33m=\u001b[0m\u001b[1;32mFalse\u001b[0m\u001b[1;33m)\u001b[0m\u001b[1;33m:\u001b[0m\u001b[1;33m\u001b[0m\u001b[0m\n",
      "\u001b[1;32m~\\Anaconda3\\envs\\PythonData\\lib\\site-packages\\pandas\\core\\frame.py\u001b[0m in \u001b[0;36m_arrays_to_mgr\u001b[1;34m(arrays, arr_names, index, columns, dtype)\u001b[0m\n\u001b[0;32m   6161\u001b[0m     \u001b[1;31m# figure out the index, if necessary\u001b[0m\u001b[1;33m\u001b[0m\u001b[1;33m\u001b[0m\u001b[0m\n\u001b[0;32m   6162\u001b[0m     \u001b[1;32mif\u001b[0m \u001b[0mindex\u001b[0m \u001b[1;32mis\u001b[0m \u001b[1;32mNone\u001b[0m\u001b[1;33m:\u001b[0m\u001b[1;33m\u001b[0m\u001b[0m\n\u001b[1;32m-> 6163\u001b[1;33m         \u001b[0mindex\u001b[0m \u001b[1;33m=\u001b[0m \u001b[0mextract_index\u001b[0m\u001b[1;33m(\u001b[0m\u001b[0marrays\u001b[0m\u001b[1;33m)\u001b[0m\u001b[1;33m\u001b[0m\u001b[0m\n\u001b[0m\u001b[0;32m   6164\u001b[0m     \u001b[1;32melse\u001b[0m\u001b[1;33m:\u001b[0m\u001b[1;33m\u001b[0m\u001b[0m\n\u001b[0;32m   6165\u001b[0m         \u001b[0mindex\u001b[0m \u001b[1;33m=\u001b[0m \u001b[0m_ensure_index\u001b[0m\u001b[1;33m(\u001b[0m\u001b[0mindex\u001b[0m\u001b[1;33m)\u001b[0m\u001b[1;33m\u001b[0m\u001b[0m\n",
      "\u001b[1;32m~\\Anaconda3\\envs\\PythonData\\lib\\site-packages\\pandas\\core\\frame.py\u001b[0m in \u001b[0;36mextract_index\u001b[1;34m(data)\u001b[0m\n\u001b[0;32m   6209\u001b[0m             \u001b[0mlengths\u001b[0m \u001b[1;33m=\u001b[0m \u001b[0mlist\u001b[0m\u001b[1;33m(\u001b[0m\u001b[0mset\u001b[0m\u001b[1;33m(\u001b[0m\u001b[0mraw_lengths\u001b[0m\u001b[1;33m)\u001b[0m\u001b[1;33m)\u001b[0m\u001b[1;33m\u001b[0m\u001b[0m\n\u001b[0;32m   6210\u001b[0m             \u001b[1;32mif\u001b[0m \u001b[0mlen\u001b[0m\u001b[1;33m(\u001b[0m\u001b[0mlengths\u001b[0m\u001b[1;33m)\u001b[0m \u001b[1;33m>\u001b[0m \u001b[1;36m1\u001b[0m\u001b[1;33m:\u001b[0m\u001b[1;33m\u001b[0m\u001b[0m\n\u001b[1;32m-> 6211\u001b[1;33m                 \u001b[1;32mraise\u001b[0m \u001b[0mValueError\u001b[0m\u001b[1;33m(\u001b[0m\u001b[1;34m'arrays must all be same length'\u001b[0m\u001b[1;33m)\u001b[0m\u001b[1;33m\u001b[0m\u001b[0m\n\u001b[0m\u001b[0;32m   6212\u001b[0m \u001b[1;33m\u001b[0m\u001b[0m\n\u001b[0;32m   6213\u001b[0m             \u001b[1;32mif\u001b[0m \u001b[0mhave_dicts\u001b[0m\u001b[1;33m:\u001b[0m\u001b[1;33m\u001b[0m\u001b[0m\n",
      "\u001b[1;31mValueError\u001b[0m: arrays must all be same length"
     ]
    }
   ],
   "source": [
    "# Convert gathered data to Dataframe and save to CSV file\n",
    "cityname1 = pd.DataFrame(cityname1)\n",
    "cityname1[\"Wind Speed\"] = cityname1[\"Wind Speed\"] *60\n",
    "cityname1.to_csv('Results.csv', sep=',', encoding='utf-8',index=False)"
   ]
  },
  {
   "cell_type": "code",
   "execution_count": 112,
   "metadata": {},
   "outputs": [
    {
     "ename": "ValueError",
     "evalue": "x and y must be the same size",
     "output_type": "error",
     "traceback": [
      "\u001b[1;31m---------------------------------------------------------------------------\u001b[0m",
      "\u001b[1;31mValueError\u001b[0m                                Traceback (most recent call last)",
      "\u001b[1;32m<ipython-input-112-11d514735423>\u001b[0m in \u001b[0;36m<module>\u001b[1;34m()\u001b[0m\n\u001b[0;32m      1\u001b[0m \u001b[1;31m# * Temperature (F) vs. Latitude\u001b[0m\u001b[1;33m\u001b[0m\u001b[1;33m\u001b[0m\u001b[0m\n\u001b[0;32m      2\u001b[0m plt.scatter(cityname1[\"Temperature\"], cityname1[\"Latitude\"], marker=\"o\", facecolors=\"purple\", edgecolors=\"black\",\n\u001b[1;32m----> 3\u001b[1;33m             alpha=0.75)\n\u001b[0m\u001b[0;32m      4\u001b[0m \u001b[0mplt\u001b[0m\u001b[1;33m.\u001b[0m\u001b[0mlegend\u001b[0m\u001b[1;33m(\u001b[0m\u001b[1;33m)\u001b[0m\u001b[1;33m\u001b[0m\u001b[0m\n\u001b[0;32m      5\u001b[0m \u001b[0mplt\u001b[0m\u001b[1;33m.\u001b[0m\u001b[0mtitle\u001b[0m\u001b[1;33m(\u001b[0m\u001b[1;34m\"* Temperature (F) vs. Latitude\"\u001b[0m\u001b[1;33m)\u001b[0m\u001b[1;33m\u001b[0m\u001b[0m\n",
      "\u001b[1;32m~\\Anaconda3\\envs\\PythonData\\lib\\site-packages\\matplotlib\\pyplot.py\u001b[0m in \u001b[0;36mscatter\u001b[1;34m(x, y, s, c, marker, cmap, norm, vmin, vmax, alpha, linewidths, verts, edgecolors, hold, data, **kwargs)\u001b[0m\n\u001b[0;32m   3376\u001b[0m                          \u001b[0mvmin\u001b[0m\u001b[1;33m=\u001b[0m\u001b[0mvmin\u001b[0m\u001b[1;33m,\u001b[0m \u001b[0mvmax\u001b[0m\u001b[1;33m=\u001b[0m\u001b[0mvmax\u001b[0m\u001b[1;33m,\u001b[0m \u001b[0malpha\u001b[0m\u001b[1;33m=\u001b[0m\u001b[0malpha\u001b[0m\u001b[1;33m,\u001b[0m\u001b[1;33m\u001b[0m\u001b[0m\n\u001b[0;32m   3377\u001b[0m                          \u001b[0mlinewidths\u001b[0m\u001b[1;33m=\u001b[0m\u001b[0mlinewidths\u001b[0m\u001b[1;33m,\u001b[0m \u001b[0mverts\u001b[0m\u001b[1;33m=\u001b[0m\u001b[0mverts\u001b[0m\u001b[1;33m,\u001b[0m\u001b[1;33m\u001b[0m\u001b[0m\n\u001b[1;32m-> 3378\u001b[1;33m                          edgecolors=edgecolors, data=data, **kwargs)\n\u001b[0m\u001b[0;32m   3379\u001b[0m     \u001b[1;32mfinally\u001b[0m\u001b[1;33m:\u001b[0m\u001b[1;33m\u001b[0m\u001b[0m\n\u001b[0;32m   3380\u001b[0m         \u001b[0max\u001b[0m\u001b[1;33m.\u001b[0m\u001b[0m_hold\u001b[0m \u001b[1;33m=\u001b[0m \u001b[0mwashold\u001b[0m\u001b[1;33m\u001b[0m\u001b[0m\n",
      "\u001b[1;32m~\\Anaconda3\\envs\\PythonData\\lib\\site-packages\\matplotlib\\__init__.py\u001b[0m in \u001b[0;36minner\u001b[1;34m(ax, *args, **kwargs)\u001b[0m\n\u001b[0;32m   1715\u001b[0m                     warnings.warn(msg % (label_namer, func.__name__),\n\u001b[0;32m   1716\u001b[0m                                   RuntimeWarning, stacklevel=2)\n\u001b[1;32m-> 1717\u001b[1;33m             \u001b[1;32mreturn\u001b[0m \u001b[0mfunc\u001b[0m\u001b[1;33m(\u001b[0m\u001b[0max\u001b[0m\u001b[1;33m,\u001b[0m \u001b[1;33m*\u001b[0m\u001b[0margs\u001b[0m\u001b[1;33m,\u001b[0m \u001b[1;33m**\u001b[0m\u001b[0mkwargs\u001b[0m\u001b[1;33m)\u001b[0m\u001b[1;33m\u001b[0m\u001b[0m\n\u001b[0m\u001b[0;32m   1718\u001b[0m         \u001b[0mpre_doc\u001b[0m \u001b[1;33m=\u001b[0m \u001b[0minner\u001b[0m\u001b[1;33m.\u001b[0m\u001b[0m__doc__\u001b[0m\u001b[1;33m\u001b[0m\u001b[0m\n\u001b[0;32m   1719\u001b[0m         \u001b[1;32mif\u001b[0m \u001b[0mpre_doc\u001b[0m \u001b[1;32mis\u001b[0m \u001b[1;32mNone\u001b[0m\u001b[1;33m:\u001b[0m\u001b[1;33m\u001b[0m\u001b[0m\n",
      "\u001b[1;32m~\\Anaconda3\\envs\\PythonData\\lib\\site-packages\\matplotlib\\axes\\_axes.py\u001b[0m in \u001b[0;36mscatter\u001b[1;34m(self, x, y, s, c, marker, cmap, norm, vmin, vmax, alpha, linewidths, verts, edgecolors, **kwargs)\u001b[0m\n\u001b[0;32m   3953\u001b[0m         \u001b[0my\u001b[0m \u001b[1;33m=\u001b[0m \u001b[0mnp\u001b[0m\u001b[1;33m.\u001b[0m\u001b[0mma\u001b[0m\u001b[1;33m.\u001b[0m\u001b[0mravel\u001b[0m\u001b[1;33m(\u001b[0m\u001b[0my\u001b[0m\u001b[1;33m)\u001b[0m\u001b[1;33m\u001b[0m\u001b[0m\n\u001b[0;32m   3954\u001b[0m         \u001b[1;32mif\u001b[0m \u001b[0mx\u001b[0m\u001b[1;33m.\u001b[0m\u001b[0msize\u001b[0m \u001b[1;33m!=\u001b[0m \u001b[0my\u001b[0m\u001b[1;33m.\u001b[0m\u001b[0msize\u001b[0m\u001b[1;33m:\u001b[0m\u001b[1;33m\u001b[0m\u001b[0m\n\u001b[1;32m-> 3955\u001b[1;33m             \u001b[1;32mraise\u001b[0m \u001b[0mValueError\u001b[0m\u001b[1;33m(\u001b[0m\u001b[1;34m\"x and y must be the same size\"\u001b[0m\u001b[1;33m)\u001b[0m\u001b[1;33m\u001b[0m\u001b[0m\n\u001b[0m\u001b[0;32m   3956\u001b[0m \u001b[1;33m\u001b[0m\u001b[0m\n\u001b[0;32m   3957\u001b[0m         \u001b[1;32mif\u001b[0m \u001b[0ms\u001b[0m \u001b[1;32mis\u001b[0m \u001b[1;32mNone\u001b[0m\u001b[1;33m:\u001b[0m\u001b[1;33m\u001b[0m\u001b[0m\n",
      "\u001b[1;31mValueError\u001b[0m: x and y must be the same size"
     ]
    },
    {
     "data": {
      "image/png": "[encoded data removed]",
      "text/plain": [
       "<matplotlib.figure.Figure at 0x20e038b5390>"
      ]
     },
     "metadata": {},
     "output_type": "display_data"
    }
   ],
   "source": [
    "# * Temperature (F) vs. Latitude\n",
    "plt.scatter(cityname1[\"Temperature\"], cityname1[\"Latitude\"], marker=\"o\", facecolors=\"purple\", edgecolors=\"black\",\n",
    "            alpha=0.75)\n",
    "plt.legend()\n",
    "plt.title(\"* Temperature (F) vs. Latitude\")\n",
    "plt.xlabel(\"Temprature\")\n",
    "plt.ylabel(\"Latitude\")"
   ]
  },
  {
   "cell_type": "code",
   "execution_count": 87,
   "metadata": {},
   "outputs": [
    {
     "data": {
      "text/plain": [
       "Text(0,0.5,'Latitude')"
      ]
     },
     "execution_count": 87,
     "metadata": {},
     "output_type": "execute_result"
    },
    {
     "data": {
      "image/png": "[encoded data removed]",
      "text/plain": [
       "<matplotlib.figure.Figure at 0x20e026cd5c0>"
      ]
     },
     "metadata": {},
     "output_type": "display_data"
    }
   ],
   "source": [
    "# * Humidity (%) vs. Latitude\n",
    "plt.scatter(cityname1[\"Humidity\"], cityname1[\"Latitude\"], marker=\"o\", facecolors=\"purple\", edgecolors=\"black\",\n",
    "            alpha=0.75)\n",
    "plt.legend()\n",
    "plt.title(\"* Humidity (%) vs. Latitude\")\n",
    "plt.xlabel(\"Humidity\")\n",
    "plt.ylabel(\"Latitude\")"
   ]
  },
  {
   "cell_type": "code",
   "execution_count": 88,
   "metadata": {},
   "outputs": [
    {
     "data": {
      "text/plain": [
       "Text(0,0.5,'Latitude')"
      ]
     },
     "execution_count": 88,
     "metadata": {},
     "output_type": "execute_result"
    },
    {
     "data": {
      "image/png": "[encoded data removed]",
      "text/plain": [
       "<matplotlib.figure.Figure at 0x20e037038d0>"
      ]
     },
     "metadata": {},
     "output_type": "display_data"
    }
   ],
   "source": [
    "# * Cloudiness (%) vs. Latitude\n",
    "plt.scatter(cityname1[\"Cloudiness\"], cityname1[\"Latitude\"], marker=\"o\", facecolors=\"purple\", edgecolors=\"black\",\n",
    "            alpha=0.75)\n",
    "plt.legend()\n",
    "plt.title(\"* Cloudiness (%) vs. Latitude\")\n",
    "plt.xlabel(\"Cloudiness (%)\")\n",
    "plt.ylabel(\"Latitude\")"
   ]
  },
  {
   "cell_type": "code",
   "execution_count": 89,
   "metadata": {},
   "outputs": [
    {
     "data": {
      "text/plain": [
       "Text(0,0.5,'Latitude')"
      ]
     },
     "execution_count": 89,
     "metadata": {},
     "output_type": "execute_result"
    },
    {
     "data": {
      "image/png": "[encoded data removed]",
      "text/plain": [
       "<matplotlib.figure.Figure at 0x20e0375a128>"
      ]
     },
     "metadata": {},
     "output_type": "display_data"
    }
   ],
   "source": [
    "# * Wind Speed (mph) vs. Latitude\n",
    "plt.scatter(cityname1[\"Wind Speed\"], cityname1[\"Latitude\"], marker=\"o\", facecolors=\"purple\", edgecolors=\"black\",\n",
    "            alpha=0.75)\n",
    "plt.legend()\n",
    "plt.title(\"* Wind Speed (mph) vs. Latitude\")\n",
    "plt.xlabel(\"Wind Speed (mph)\")\n",
    "plt.ylabel(\"Latitude\")"
   ]
  },
  {
   "cell_type": "code",
   "execution_count": null,
   "metadata": {},
   "outputs": [],
   "source": []
  },
  {
   "cell_type": "code",
   "execution_count": null,
   "metadata": {},
   "outputs": [],
   "source": []
  },
  {
   "cell_type": "code",
   "execution_count": null,
   "metadata": {},
   "outputs": [],
   "source": []
  }
 ],
 "metadata": {
  "kernelspec": {
   "display_name": "Python 3",
   "language": "python",
   "name": "python3"
  },
  "language_info": {
   "codemirror_mode": {
    "name": "ipython",
    "version": 3
   },
   "file_extension": ".py",
   "mimetype": "text/x-python",
   "name": "python",
   "nbconvert_exporter": "python",
   "pygments_lexer": "ipython3",
   "version": "3.6.4"
  },
  "varInspector": {
   "cols": {
    "lenName": 16,
    "lenType": 16,
    "lenVar": 40
   },
   "kernels_config": {
    "python": {
     "delete_cmd_postfix": "",
     "delete_cmd_prefix": "del ",
     "library": "var_list.py",
     "varRefreshCmd": "print(var_dic_list())"
    },
    "r": {
     "delete_cmd_postfix": ") ",
     "delete_cmd_prefix": "rm(",
     "library": "var_list.r",
     "varRefreshCmd": "cat(var_dic_list()) "
    }
   },
   "types_to_exclude": [
    "module",
    "function",
    "builtin_function_or_method",
    "instance",
    "_Feature"
   ],
   "window_display": false
  }
 },
 "nbformat": 4,
 "nbformat_minor": 2
}
