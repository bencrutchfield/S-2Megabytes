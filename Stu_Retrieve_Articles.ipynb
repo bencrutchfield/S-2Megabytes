{
 "cells": [
  {
   "cell_type": "code",
   "execution_count": 5,
   "metadata": {},
   "outputs": [
    {
     "name": "stdout",
     "output_type": "stream",
     "text": [
      "https://api.nytimes.com/svc/search/v2/articlesearch.json?api-key=164b73c522a8420c8e05343ef1da0a7e&q=obama politics&begin_date=20160101&end_date=20160130\n"
     ]
    }
   ],
   "source": [
    "# Dependencies\n",
    "import requests\n",
    "from config import api_key\n",
    "\n",
    "url = \"https://api.nytimes.com/svc/search/v2/articlesearch.json?\"\n",
    "\n",
    "# Store a search term\n",
    "query = \"obama politics\"\n",
    "\n",
    "# Search for articles published between a begin and end date\n",
    "begin_date = \"20160101\"\n",
    "end_date = \"20160130\"\n",
    "\n",
    "params = {\n",
    "    \"api-key\": api_key,\n",
    "    \"q\": query,\n",
    "    \"begin_date\": begin_date,\n",
    "    \"end_date\": end_date\n",
    "}\n",
    "\n",
    "query_url = f\"{url}api-key={api_key}&q={query}&begin_date={begin_date}&end_date={end_date}\"\n",
    "            \n",
    "print(query_url)"
   ]
  },
  {
   "cell_type": "code",
   "execution_count": null,
   "metadata": {},
   "outputs": [],
   "source": []
  },
  {
   "cell_type": "code",
   "execution_count": 6,
   "metadata": {},
   "outputs": [
    {
     "name": "stdout",
     "output_type": "stream",
     "text": [
      "A snippet from the article: In presidential elections, opposites attract.\n",
      "A snippet from the article: President Obama framed the issue as the most important of the several he laid out in his speech. Though he acknowledged the difficulty in building traction for such initiatives, he said he intended to campaign for them in the final months of his a...\n",
      "A snippet from the article: President Obama will travel to Detroit to celebrate the automobile industry bailout he put into effect during his first year in office. But the victory lap runs uncomfortably close to the latest crisis weighing on his administration: About 70 mile...\n",
      "A snippet from the article: In his State of the Union speech, President Obama implored the two political parties to “fix our politics” through compromise and cooperation and civility.\n",
      "A snippet from the article: Top aides have made it very clear that the speech would not be the usual litany of legislative priorities but would instead be a grander call to arms on the major challenges facing the nation.\n",
      "A snippet from the article: In his final State of the Union message, the president urged Americans to confront the challenges of the future by rejecting fear and embracing change.\n",
      "A snippet from the article: The president told Politico that politics were “meaner” than in 2008, and discussed the Democratic contest between Hillary Clinton and Bernie Sanders.\n",
      "A snippet from the article: Some lucky gun rights advocates will get the chance to tell the president directly what they think about his efforts to restrict gun sales during a televised town-hall-style forum on Thursday night, according to the White House.\n",
      "A snippet from the article: “Let me tell you, there are three things that are certain in life: death, taxes, and Michelle is not running for president.” — President Obama\n",
      "A snippet from the article: The president, who has spoken highly of Hillary Clinton recently, will meet with Senator Bernie Sanders, whom he does not have much of a relationship with.\n"
     ]
    }
   ],
   "source": [
    "# Retrieve articles\n",
    "# articles = requests.get(query_url).json()\n",
    "articles = requests.get(url, params).json()\n",
    "articles_list = [article for article in articles[\"response\"][\"docs\"]]\n",
    "\n",
    "for article in articles_list:\n",
    "    print(f'A snippet from the article: {article[\"snippet\"]}')"
   ]
  },
  {
   "cell_type": "code",
   "execution_count": 3,
   "metadata": {},
   "outputs": [
    {
     "name": "stdout",
     "output_type": "stream",
     "text": [
      "# of articles = 10\n",
      "# of articles = 20\n",
      "{'message': 'API rate limit exceeded'}\n",
      "let's wait 1 second...\n",
      "# of articles = 30\n",
      "# of articles = 40\n",
      "{'message': 'API rate limit exceeded'}\n",
      "let's wait 1 second...\n",
      "# of articles = 50\n",
      "{'message': 'API rate limit exceeded'}\n",
      "let's wait 1 second...\n",
      "# of articles = 60\n",
      "# of articles = 70\n",
      "{'message': 'API rate limit exceeded'}\n",
      "let's wait 1 second...\n",
      "# of articles = 80\n",
      "{'message': 'API rate limit exceeded'}\n",
      "let's wait 1 second...\n",
      "# of articles = 90\n",
      "{'message': 'API rate limit exceeded'}\n",
      "let's wait 1 second...\n",
      "# of articles = 100\n"
     ]
    }
   ],
   "source": [
    "import time\n",
    "\n",
    "max_tries = 10\n",
    "def get_articles(page, try_number = 0, wait_time = 1):\n",
    "    # create query with page number\n",
    "    params[\"page\"] = str(page)\n",
    "    articles = requests.get(url, params).json()\n",
    "    # catch API Timeout Responses\n",
    "    if \"message\" in articles:\n",
    "        if try_number >= max_tries:\n",
    "            print(f\"{try_number} tries was not enough to get_articles\")\n",
    "            return\n",
    "        print(articles)\n",
    "        print(f\"let's wait {wait_time} second...\")\n",
    "        time.sleep(wait_time)\n",
    "        return get_articles(page, try_number+1)\n",
    "    return articles\n",
    "    \n",
    "# BONUS: How would we get 30 results? \n",
    "# HINT: Look up the page query param\n",
    "\n",
    "# Emply list for articles\n",
    "articles_list = []\n",
    "\n",
    "# loop through pages 0-2\n",
    "for page in range(0, 10):\n",
    "    articles = get_articles(page, try_number = 0, wait_time = 1)\n",
    "    # loop through the response and append each article to the list\n",
    "    for article in articles[\"response\"][\"docs\"]:\n",
    "        articles_list.append(article)\n",
    "    print(f\"# of articles = {len(articles_list)}\")"
   ]
  },
  {
   "cell_type": "code",
   "execution_count": null,
   "metadata": {},
   "outputs": [],
   "source": []
  }
 ],
 "metadata": {
  "kernelspec": {
   "display_name": "Python [default]",
   "language": "python",
   "name": "python3"
  },
  "language_info": {
   "codemirror_mode": {
    "name": "ipython",
    "version": 3
   },
   "file_extension": ".py",
   "mimetype": "text/x-python",
   "name": "python",
   "nbconvert_exporter": "python",
   "pygments_lexer": "ipython3",
   "version": "3.6.5"
  },
  "varInspector": {
   "cols": {
    "lenName": 16,
    "lenType": 16,
    "lenVar": 40
   },
   "kernels_config": {
    "python": {
     "delete_cmd_postfix": "",
     "delete_cmd_prefix": "del ",
     "library": "var_list.py",
     "varRefreshCmd": "print(var_dic_list())"
    },
    "r": {
     "delete_cmd_postfix": ") ",
     "delete_cmd_prefix": "rm(",
     "library": "var_list.r",
     "varRefreshCmd": "cat(var_dic_list()) "
    }
   },
   "types_to_exclude": [
    "module",
    "function",
    "builtin_function_or_method",
    "instance",
    "_Feature"
   ],
   "window_display": false
  }
 },
 "nbformat": 4,
 "nbformat_minor": 2
}
