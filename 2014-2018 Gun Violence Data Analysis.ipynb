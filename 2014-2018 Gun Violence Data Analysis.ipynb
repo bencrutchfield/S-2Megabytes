{
 "cells": [
  {
   "cell_type": "markdown",
   "metadata": {},
   "source": [
    "# **Project 1** - Providing Insights on Gun Voilence Data in America"
   ]
  },
  {
   "cell_type": "markdown",
   "metadata": {},
   "source": [
    "Participants\n",
    "Sheela Srinivasa\n",
    "Ben Crutchfield\n",
    "Melody Yunchen Zhang\n",
    "Kumar Siddharth\n",
    "The main purpose of the project is to provide insight to the gun voilence data using statistics and visualization methods available in Python and available packages like Pandas, matplotlib etc. The dataset was obtained from [http://www.kaggle.com ], but it was originally downloaded from [http://www.gunviolencearchive.org/ ]. The dataset contains records of more than 260k gun voilence incidents in the US between January 2013 and March 2018, inclusive.\n",
    "\n",
    "Gun Violence Archive (GVA) is a not for profit corporation formed in 2013 to provide free online public access to accurate information about gun-related violence in the United States."
   ]
  },
  {
   "cell_type": "markdown",
   "metadata": {},
   "source": [
    "## Import Dependencies"
   ]
  },
  {
   "cell_type": "code",
   "execution_count": 41,
   "metadata": {},
   "outputs": [],
   "source": [
    "\n",
    "import random\n",
    "import requests\n",
    "import pandas as pd\n",
    "import time\n",
    "import openweathermapy.core as owm\n",
    "import matplotlib.pyplot as plt\n",
    "# from config import api_key\n",
    "import numpy as np\n",
    "import csv\n",
    "import datetime\n",
    "import seaborn as sns\n",
    "import calendar\n",
    "\n",
    "\n",
    "import plotly\n",
    "plotly.tools.set_credentials_file(username='melody9178', api_key='W5hhLb4CAn9Bk6cpOUjc')\n",
    "import plotly.plotly as py\n",
    "import plotly.figure_factory as ff\n",
    "import plotly.graph_objs as go"
   ]
  },
  {
   "cell_type": "code",
   "execution_count": 42,
   "metadata": {},
   "outputs": [],
   "source": [
    "#Import CSV/API\n",
    "csv_path = \"gun-violence-data_01-2013_03-2018.csv\"\n",
    "GunVoilenceRawData_df = pd.read_csv(csv_path)"
   ]
  },
  {
   "cell_type": "code",
   "execution_count": 43,
   "metadata": {},
   "outputs": [],
   "source": [
    "# Include additional columns Year and Month\n",
    "GunVoilenceRawData_df[\"Year\"] = pd.DatetimeIndex(GunVoilenceRawData_df['date']).year\n",
    "GunVoilenceRawData_df = GunVoilenceRawData_df[(GunVoilenceRawData_df.Year != 2013)]\n",
    "GunVoilenceRawData_df[\"Month\"] = pd.DatetimeIndex(GunVoilenceRawData_df['date']).month\n",
    "GunVoilenceRawData_df['Month'] = GunVoilenceRawData_df['Month'].apply(lambda x: calendar.month_abbr[x])\n",
    "GunVoilenceRawData_df['Victims'] = GunVoilenceRawData_df[\"n_killed\"] + GunVoilenceRawData_df[\"n_injured\"]\n"
   ]
  },
  {
   "cell_type": "code",
   "execution_count": 44,
   "metadata": {},
   "outputs": [],
   "source": [
    "#Data Cleanup - Replace \"District of Columbia\" value with \"Washington\"\n",
    "GunVoilenceRawData_df = GunVoilenceRawData_df.replace('District of Columbia', 'Maryland')"
   ]
  },
  {
   "cell_type": "code",
   "execution_count": 45,
   "metadata": {},
   "outputs": [
    {
     "data": {
      "text/html": [
       "<div>\n",
       "<style scoped>\n",
       "    .dataframe tbody tr th:only-of-type {\n",
       "        vertical-align: middle;\n",
       "    }\n",
       "\n",
       "    .dataframe tbody tr th {\n",
       "        vertical-align: top;\n",
       "    }\n",
       "\n",
       "    .dataframe thead th {\n",
       "        text-align: right;\n",
       "    }\n",
       "</style>\n",
       "<table border=\"1\" class=\"dataframe\">\n",
       "  <thead>\n",
       "    <tr style=\"text-align: right;\">\n",
       "      <th></th>\n",
       "      <th>incident_id</th>\n",
       "      <th>date</th>\n",
       "      <th>state</th>\n",
       "      <th>city_or_county</th>\n",
       "      <th>n_killed</th>\n",
       "      <th>n_injured</th>\n",
       "      <th>congressional_district</th>\n",
       "      <th>n_guns_involved</th>\n",
       "      <th>Year</th>\n",
       "      <th>Month</th>\n",
       "      <th>Victims</th>\n",
       "    </tr>\n",
       "  </thead>\n",
       "  <tbody>\n",
       "    <tr>\n",
       "      <th>278</th>\n",
       "      <td>95289</td>\n",
       "      <td>1/1/2014</td>\n",
       "      <td>Michigan</td>\n",
       "      <td>Muskegon</td>\n",
       "      <td>0</td>\n",
       "      <td>0</td>\n",
       "      <td>2.0</td>\n",
       "      <td>NaN</td>\n",
       "      <td>2014</td>\n",
       "      <td>Jan</td>\n",
       "      <td>0</td>\n",
       "    </tr>\n",
       "    <tr>\n",
       "      <th>279</th>\n",
       "      <td>92401</td>\n",
       "      <td>1/1/2014</td>\n",
       "      <td>New Jersey</td>\n",
       "      <td>Newark</td>\n",
       "      <td>0</td>\n",
       "      <td>0</td>\n",
       "      <td>10.0</td>\n",
       "      <td>NaN</td>\n",
       "      <td>2014</td>\n",
       "      <td>Jan</td>\n",
       "      <td>0</td>\n",
       "    </tr>\n",
       "    <tr>\n",
       "      <th>280</th>\n",
       "      <td>92383</td>\n",
       "      <td>1/1/2014</td>\n",
       "      <td>New York</td>\n",
       "      <td>Queens</td>\n",
       "      <td>1</td>\n",
       "      <td>0</td>\n",
       "      <td>5.0</td>\n",
       "      <td>NaN</td>\n",
       "      <td>2014</td>\n",
       "      <td>Jan</td>\n",
       "      <td>1</td>\n",
       "    </tr>\n",
       "    <tr>\n",
       "      <th>281</th>\n",
       "      <td>92142</td>\n",
       "      <td>1/1/2014</td>\n",
       "      <td>New York</td>\n",
       "      <td>Brooklyn</td>\n",
       "      <td>0</td>\n",
       "      <td>1</td>\n",
       "      <td>9.0</td>\n",
       "      <td>NaN</td>\n",
       "      <td>2014</td>\n",
       "      <td>Jan</td>\n",
       "      <td>1</td>\n",
       "    </tr>\n",
       "    <tr>\n",
       "      <th>282</th>\n",
       "      <td>95261</td>\n",
       "      <td>1/1/2014</td>\n",
       "      <td>Missouri</td>\n",
       "      <td>Springfield</td>\n",
       "      <td>0</td>\n",
       "      <td>1</td>\n",
       "      <td>7.0</td>\n",
       "      <td>NaN</td>\n",
       "      <td>2014</td>\n",
       "      <td>Jan</td>\n",
       "      <td>1</td>\n",
       "    </tr>\n",
       "  </tbody>\n",
       "</table>\n",
       "</div>"
      ],
      "text/plain": [
       "     incident_id      date       state city_or_county  n_killed  n_injured  \\\n",
       "278        95289  1/1/2014    Michigan       Muskegon         0          0   \n",
       "279        92401  1/1/2014  New Jersey         Newark         0          0   \n",
       "280        92383  1/1/2014    New York         Queens         1          0   \n",
       "281        92142  1/1/2014    New York       Brooklyn         0          1   \n",
       "282        95261  1/1/2014    Missouri    Springfield         0          1   \n",
       "\n",
       "     congressional_district  n_guns_involved  Year Month  Victims  \n",
       "278                     2.0              NaN  2014   Jan        0  \n",
       "279                    10.0              NaN  2014   Jan        0  \n",
       "280                     5.0              NaN  2014   Jan        1  \n",
       "281                     9.0              NaN  2014   Jan        1  \n",
       "282                     7.0              NaN  2014   Jan        1  "
      ]
     },
     "execution_count": 45,
     "metadata": {},
     "output_type": "execute_result"
    }
   ],
   "source": [
    "# Print cleaned up date\n",
    "GunVoilenceRawData_df.head()"
   ]
  },
  {
   "cell_type": "markdown",
   "metadata": {},
   "source": [
    "# Shootings by State"
   ]
  },
  {
   "cell_type": "code",
   "execution_count": 46,
   "metadata": {},
   "outputs": [
    {
     "data": {
      "text/html": [
       "<div>\n",
       "<style scoped>\n",
       "    .dataframe tbody tr th:only-of-type {\n",
       "        vertical-align: middle;\n",
       "    }\n",
       "\n",
       "    .dataframe tbody tr th {\n",
       "        vertical-align: top;\n",
       "    }\n",
       "\n",
       "    .dataframe thead th {\n",
       "        text-align: right;\n",
       "    }\n",
       "</style>\n",
       "<table border=\"1\" class=\"dataframe\">\n",
       "  <thead>\n",
       "    <tr style=\"text-align: right;\">\n",
       "      <th></th>\n",
       "      <th>ShootingCount</th>\n",
       "    </tr>\n",
       "    <tr>\n",
       "      <th>state</th>\n",
       "      <th></th>\n",
       "    </tr>\n",
       "  </thead>\n",
       "  <tbody>\n",
       "    <tr>\n",
       "      <th>Alabama</th>\n",
       "      <td>5469</td>\n",
       "    </tr>\n",
       "    <tr>\n",
       "      <th>Alaska</th>\n",
       "      <td>1349</td>\n",
       "    </tr>\n",
       "    <tr>\n",
       "      <th>Arizona</th>\n",
       "      <td>2323</td>\n",
       "    </tr>\n",
       "    <tr>\n",
       "      <th>Arkansas</th>\n",
       "      <td>2842</td>\n",
       "    </tr>\n",
       "    <tr>\n",
       "      <th>California</th>\n",
       "      <td>16267</td>\n",
       "    </tr>\n",
       "  </tbody>\n",
       "</table>\n",
       "</div>"
      ],
      "text/plain": [
       "            ShootingCount\n",
       "state                    \n",
       "Alabama              5469\n",
       "Alaska               1349\n",
       "Arizona              2323\n",
       "Arkansas             2842\n",
       "California          16267"
      ]
     },
     "execution_count": 46,
     "metadata": {},
     "output_type": "execute_result"
    }
   ],
   "source": [
    "#Find valuable data using lists - shottings count per State\n",
    "State_Shooting = pd.DataFrame(GunVoilenceRawData_df.groupby(['state']).size())\n",
    "State_Shooting= State_Shooting.reset_index()\n",
    "State_Shooting.columns = ['state','ShootingCount']\n",
    "State_Shooting = State_Shooting.set_index('state')\n",
    "State_Shooting.head()"
   ]
  },
  {
   "cell_type": "code",
   "execution_count": 47,
   "metadata": {},
   "outputs": [
    {
     "data": {
      "text/html": [
       "<div>\n",
       "<style scoped>\n",
       "    .dataframe tbody tr th:only-of-type {\n",
       "        vertical-align: middle;\n",
       "    }\n",
       "\n",
       "    .dataframe tbody tr th {\n",
       "        vertical-align: top;\n",
       "    }\n",
       "\n",
       "    .dataframe thead th {\n",
       "        text-align: right;\n",
       "    }\n",
       "</style>\n",
       "<table border=\"1\" class=\"dataframe\">\n",
       "  <thead>\n",
       "    <tr style=\"text-align: right;\">\n",
       "      <th></th>\n",
       "      <th>state_abbrev</th>\n",
       "    </tr>\n",
       "    <tr>\n",
       "      <th>state</th>\n",
       "      <th></th>\n",
       "    </tr>\n",
       "  </thead>\n",
       "  <tbody>\n",
       "    <tr>\n",
       "      <th>Alabama</th>\n",
       "      <td>AL</td>\n",
       "    </tr>\n",
       "    <tr>\n",
       "      <th>Alaska</th>\n",
       "      <td>AK</td>\n",
       "    </tr>\n",
       "    <tr>\n",
       "      <th>Arizona</th>\n",
       "      <td>AZ</td>\n",
       "    </tr>\n",
       "    <tr>\n",
       "      <th>Arkansas</th>\n",
       "      <td>AR</td>\n",
       "    </tr>\n",
       "    <tr>\n",
       "      <th>California</th>\n",
       "      <td>CA</td>\n",
       "    </tr>\n",
       "  </tbody>\n",
       "</table>\n",
       "</div>"
      ],
      "text/plain": [
       "           state_abbrev\n",
       "state                  \n",
       "Alabama              AL\n",
       "Alaska               AK\n",
       "Arizona              AZ\n",
       "Arkansas             AR\n",
       "California           CA"
      ]
     },
     "execution_count": 47,
     "metadata": {},
     "output_type": "execute_result"
    }
   ],
   "source": [
    "# Build State Abbrev Dataframe\n",
    "\n",
    "us_state_abbrev = {\n",
    "    'Alabama': 'AL',\n",
    "    'Alaska': 'AK',\n",
    "    'Arizona': 'AZ',\n",
    "    'Arkansas': 'AR',\n",
    "    'California': 'CA',\n",
    "    'Colorado': 'CO',\n",
    "    'Connecticut': 'CT',\n",
    "    'Delaware': 'DE',\n",
    "    'Florida': 'FL',\n",
    "    'Georgia': 'GA',\n",
    "    'Hawaii': 'HI',\n",
    "    'Idaho': 'ID',\n",
    "    'Illinois': 'IL',\n",
    "    'Indiana': 'IN',\n",
    "    'Iowa': 'IA',\n",
    "    'Kansas': 'KS',\n",
    "    'Kentucky': 'KY',\n",
    "    'Louisiana': 'LA',\n",
    "    'Maine': 'ME',\n",
    "    'Maryland': 'MD',\n",
    "    'Massachusetts': 'MA',\n",
    "    'Michigan': 'MI',\n",
    "    'Minnesota': 'MN',\n",
    "    'Mississippi': 'MS',\n",
    "    'Missouri': 'MO',\n",
    "    'Montana': 'MT',\n",
    "    'Nebraska': 'NE',\n",
    "    'Nevada': 'NV',\n",
    "    'New Hampshire': 'NH',\n",
    "    'New Jersey': 'NJ',\n",
    "    'New Mexico': 'NM',\n",
    "    'New York': 'NY',\n",
    "    'North Carolina': 'NC',\n",
    "    'North Dakota': 'ND',\n",
    "    'Ohio': 'OH',\n",
    "    'Oklahoma': 'OK',\n",
    "    'Oregon': 'OR',\n",
    "    'Pennsylvania': 'PA',\n",
    "    'Rhode Island': 'RI',\n",
    "    'South Carolina': 'SC',\n",
    "    'South Dakota': 'SD',\n",
    "    'Tennessee': 'TN',\n",
    "    'Texas': 'TX',\n",
    "    'Utah': 'UT',\n",
    "    'Vermont': 'VT',\n",
    "    'Virginia': 'VA',\n",
    "    'Washington': 'WA',\n",
    "    'West Virginia': 'WV',\n",
    "    'Wisconsin': 'WI',\n",
    "    'Wyoming': 'WY',\n",
    "}\n",
    "\n",
    "\n",
    "State_Abbrev=pd.DataFrame.from_dict(us_state_abbrev,orient='index')\n",
    "State_Abbrev.index.name = 'state'\n",
    "State_Abbrev = State_Abbrev.rename(index = str, columns = {0:\"state_abbrev\"})\n",
    "\n",
    "State_Abbrev.head()"
   ]
  },
  {
   "cell_type": "code",
   "execution_count": 48,
   "metadata": {},
   "outputs": [
    {
     "data": {
      "text/html": [
       "<div>\n",
       "<style scoped>\n",
       "    .dataframe tbody tr th:only-of-type {\n",
       "        vertical-align: middle;\n",
       "    }\n",
       "\n",
       "    .dataframe tbody tr th {\n",
       "        vertical-align: top;\n",
       "    }\n",
       "\n",
       "    .dataframe thead th {\n",
       "        text-align: right;\n",
       "    }\n",
       "</style>\n",
       "<table border=\"1\" class=\"dataframe\">\n",
       "  <thead>\n",
       "    <tr style=\"text-align: right;\">\n",
       "      <th></th>\n",
       "      <th>ShootingCount</th>\n",
       "      <th>state_abbrev</th>\n",
       "    </tr>\n",
       "    <tr>\n",
       "      <th>state</th>\n",
       "      <th></th>\n",
       "      <th></th>\n",
       "    </tr>\n",
       "  </thead>\n",
       "  <tbody>\n",
       "    <tr>\n",
       "      <th>Alabama</th>\n",
       "      <td>5469</td>\n",
       "      <td>AL</td>\n",
       "    </tr>\n",
       "    <tr>\n",
       "      <th>Alaska</th>\n",
       "      <td>1349</td>\n",
       "      <td>AK</td>\n",
       "    </tr>\n",
       "    <tr>\n",
       "      <th>Arizona</th>\n",
       "      <td>2323</td>\n",
       "      <td>AZ</td>\n",
       "    </tr>\n",
       "    <tr>\n",
       "      <th>Arkansas</th>\n",
       "      <td>2842</td>\n",
       "      <td>AR</td>\n",
       "    </tr>\n",
       "    <tr>\n",
       "      <th>California</th>\n",
       "      <td>16267</td>\n",
       "      <td>CA</td>\n",
       "    </tr>\n",
       "  </tbody>\n",
       "</table>\n",
       "</div>"
      ],
      "text/plain": [
       "            ShootingCount state_abbrev\n",
       "state                                 \n",
       "Alabama              5469           AL\n",
       "Alaska               1349           AK\n",
       "Arizona              2323           AZ\n",
       "Arkansas             2842           AR\n",
       "California          16267           CA"
      ]
     },
     "execution_count": 48,
     "metadata": {},
     "output_type": "execute_result"
    }
   ],
   "source": [
    "# To facilitate visualisation, merge State Abbreviation dataframe with State Shooting dataframe\n",
    "StateAbbrev_Shooting = pd.concat([State_Shooting, State_Abbrev], axis=1, join='outer')\n",
    "StateAbbrev_Shooting.head()"
   ]
  },
  {
   "cell_type": "code",
   "execution_count": 49,
   "metadata": {},
   "outputs": [
    {
     "data": {
      "text/html": [
       "<iframe id=\"igraph\" scrolling=\"no\" style=\"border:none;\" seamless=\"seamless\" src=\"https://plot.ly/~melody9178/2.embed\" height=\"525px\" width=\"100%\"></iframe>"
      ],
      "text/plain": [
       "<plotly.tools.PlotlyDisplay object>"
      ]
     },
     "execution_count": 49,
     "metadata": {},
     "output_type": "execute_result"
    }
   ],
   "source": [
    "# Visualize Shootings by State\n",
    "\n",
    "\n",
    "for col in StateAbbrev_Shooting.columns:\n",
    "    StateAbbrev_Shooting[col] = StateAbbrev_Shooting[col].astype(str)\n",
    "\n",
    "scl = [[0.0, 'rgb(242,240,247)'],[0.2, 'rgb(218,218,235)'],[0.4, 'rgb(188,189,220)'],\\\n",
    "            [0.6, 'rgb(158,154,200)'],[0.8, 'rgb(117,107,177)'],[1.0, 'rgb(84,39,143)']]\n",
    "\n",
    "\n",
    "data = [ dict(\n",
    "        type='choropleth',\n",
    "        colorscale = scl,\n",
    "        autocolorscale = False,\n",
    "        locations = StateAbbrev_Shooting['state_abbrev'],\n",
    "        z = StateAbbrev_Shooting['ShootingCount'].astype(float),\n",
    "        locationmode = 'USA-states',\n",
    "        marker = dict(\n",
    "            line = dict (\n",
    "                color = 'rgb(255,255,255)',\n",
    "                width = 2\n",
    "            ) ),\n",
    "        colorbar = dict(\n",
    "            title = 'Shootings Count')\n",
    "        ) ]\n",
    "\n",
    "layout = dict(\n",
    "        title = '2014-2018 US Shootings Count by State',\n",
    "        geo = dict(\n",
    "            scope='usa',\n",
    "            projection=dict( type='albers usa' ),\n",
    "            showlakes = None)\n",
    "             )\n",
    "    \n",
    "fig = dict( data=data, layout=layout )\n",
    "py.iplot( fig, filename='2014-2018 US Shootings Count by State' )\n"
   ]
  },
  {
   "cell_type": "code",
   "execution_count": null,
   "metadata": {},
   "outputs": [],
   "source": []
  },
  {
   "cell_type": "markdown",
   "metadata": {},
   "source": [
    "# Shooting and Killed by time"
   ]
  },
  {
   "cell_type": "code",
   "execution_count": 99,
   "metadata": {},
   "outputs": [
    {
     "data": {
      "text/html": [
       "<div>\n",
       "<style scoped>\n",
       "    .dataframe tbody tr th:only-of-type {\n",
       "        vertical-align: middle;\n",
       "    }\n",
       "\n",
       "    .dataframe tbody tr th {\n",
       "        vertical-align: top;\n",
       "    }\n",
       "\n",
       "    .dataframe thead th {\n",
       "        text-align: right;\n",
       "    }\n",
       "</style>\n",
       "<table border=\"1\" class=\"dataframe\">\n",
       "  <thead>\n",
       "    <tr style=\"text-align: right;\">\n",
       "      <th></th>\n",
       "      <th>Date</th>\n",
       "      <th>ShootingCount</th>\n",
       "    </tr>\n",
       "  </thead>\n",
       "  <tbody>\n",
       "    <tr>\n",
       "      <th>0</th>\n",
       "      <td>2014-01-01</td>\n",
       "      <td>216</td>\n",
       "    </tr>\n",
       "    <tr>\n",
       "      <th>55</th>\n",
       "      <td>2014-01-02</td>\n",
       "      <td>119</td>\n",
       "    </tr>\n",
       "    <tr>\n",
       "      <th>109</th>\n",
       "      <td>2014-01-03</td>\n",
       "      <td>124</td>\n",
       "    </tr>\n",
       "    <tr>\n",
       "      <th>124</th>\n",
       "      <td>2014-01-04</td>\n",
       "      <td>140</td>\n",
       "    </tr>\n",
       "    <tr>\n",
       "      <th>129</th>\n",
       "      <td>2014-01-05</td>\n",
       "      <td>130</td>\n",
       "    </tr>\n",
       "  </tbody>\n",
       "</table>\n",
       "</div>"
      ],
      "text/plain": [
       "          Date  ShootingCount\n",
       "0   2014-01-01            216\n",
       "55  2014-01-02            119\n",
       "109 2014-01-03            124\n",
       "124 2014-01-04            140\n",
       "129 2014-01-05            130"
      ]
     },
     "execution_count": 99,
     "metadata": {},
     "output_type": "execute_result"
    }
   ],
   "source": [
    "ShootingTime = pd.DataFrame(GunVoilenceRawData_df.groupby(['date']).size())\n",
    "ShootingTime = ShootingTime.reset_index()\n",
    "ShootingTime.columns = ['Date','ShootingCount']\n",
    "ShootingTime['Date'] =pd.to_datetime(ShootingTime['Date'], format='%m/%d/%Y')\n",
    "ShootingTime = ShootingTime.sort_values('Date')\n",
    "ShootingTime.head()\n"
   ]
  },
  {
   "cell_type": "code",
   "execution_count": 100,
   "metadata": {},
   "outputs": [
    {
     "data": {
      "text/html": [
       "<div>\n",
       "<style scoped>\n",
       "    .dataframe tbody tr th:only-of-type {\n",
       "        vertical-align: middle;\n",
       "    }\n",
       "\n",
       "    .dataframe tbody tr th {\n",
       "        vertical-align: top;\n",
       "    }\n",
       "\n",
       "    .dataframe thead th {\n",
       "        text-align: right;\n",
       "    }\n",
       "</style>\n",
       "<table border=\"1\" class=\"dataframe\">\n",
       "  <thead>\n",
       "    <tr style=\"text-align: right;\">\n",
       "      <th></th>\n",
       "      <th>Date</th>\n",
       "      <th>Victims</th>\n",
       "    </tr>\n",
       "  </thead>\n",
       "  <tbody>\n",
       "    <tr>\n",
       "      <th>0</th>\n",
       "      <td>2014-01-01</td>\n",
       "      <td>182</td>\n",
       "    </tr>\n",
       "    <tr>\n",
       "      <th>55</th>\n",
       "      <td>2014-01-02</td>\n",
       "      <td>77</td>\n",
       "    </tr>\n",
       "    <tr>\n",
       "      <th>109</th>\n",
       "      <td>2014-01-03</td>\n",
       "      <td>96</td>\n",
       "    </tr>\n",
       "    <tr>\n",
       "      <th>124</th>\n",
       "      <td>2014-01-04</td>\n",
       "      <td>110</td>\n",
       "    </tr>\n",
       "    <tr>\n",
       "      <th>129</th>\n",
       "      <td>2014-01-05</td>\n",
       "      <td>97</td>\n",
       "    </tr>\n",
       "  </tbody>\n",
       "</table>\n",
       "</div>"
      ],
      "text/plain": [
       "          Date  Victims\n",
       "0   2014-01-01      182\n",
       "55  2014-01-02       77\n",
       "109 2014-01-03       96\n",
       "124 2014-01-04      110\n",
       "129 2014-01-05       97"
      ]
     },
     "execution_count": 100,
     "metadata": {},
     "output_type": "execute_result"
    }
   ],
   "source": [
    "\n",
    "VictimsTime = pd.DataFrame(GunVoilenceRawData_df.groupby(['date'])['Victims'].sum())\n",
    "VictimsTime = VictimsTime.reset_index()\n",
    "VictimsTime.columns = ['Date','Victims']\n",
    "VictimsTime['Date'] =pd.to_datetime(VictimsTime['Date'], format='%m/%d/%Y')\n",
    "VictimsTime= VictimsTime.sort_values('Date')\n",
    "VictimsTime.head()"
   ]
  },
  {
   "cell_type": "code",
   "execution_count": 101,
   "metadata": {
    "scrolled": true
   },
   "outputs": [
    {
     "data": {
      "text/html": [
       "<iframe id=\"igraph\" scrolling=\"no\" style=\"border:none;\" seamless=\"seamless\" src=\"https://plot.ly/~melody9178/24.embed\" height=\"525px\" width=\"100%\"></iframe>"
      ],
      "text/plain": [
       "<plotly.tools.PlotlyDisplay object>"
      ]
     },
     "execution_count": 101,
     "metadata": {},
     "output_type": "execute_result"
    }
   ],
   "source": [
    "ShootingTimeData = go.Scatter(\n",
    "                  x=ShootingTime.Date,\n",
    "                  y=ShootingTime['ShootingCount'], name = \"ShootingCount\",\n",
    "                  line = dict(color = '#17BECF'))\n",
    "\n",
    "VictimsTimeData = go.Scatter(\n",
    "                  x=VictimsTime.Date,\n",
    "                  y=VictimsTime['Victims'], name = \"Victims\",\n",
    "                  line = dict(color = '#7F7F7F'))\n",
    "\n",
    "TimeData = [ShootingTimeData,VictimsTimeData]\n",
    "\n",
    "layout = dict(\n",
    "    title='Shooting and Victims by Time',\n",
    "    xaxis=dict(\n",
    "        rangeselector=dict(\n",
    "            buttons=list([\n",
    "                dict(count=1,\n",
    "                     label='6m',\n",
    "                     step='month',\n",
    "                     stepmode='backward'),\n",
    "                dict(count=6,\n",
    "                     label='12m',\n",
    "                     step='month',\n",
    "                     stepmode='backward'),\n",
    "                dict(step='all')\n",
    "            ])\n",
    "        ),\n",
    "        rangeslider=dict(),\n",
    "        type='date'\n",
    "    )\n",
    ")\n",
    "\n",
    "\n",
    "fig = dict(data=TimeData, layout=layout)\n",
    "py.iplot(fig, filename = \"Shooting and Victims by Time\")\n"
   ]
  },
  {
   "cell_type": "markdown",
   "metadata": {},
   "source": [
    "# Shooting and Victims by Month"
   ]
  },
  {
   "cell_type": "code",
   "execution_count": 104,
   "metadata": {},
   "outputs": [
    {
     "data": {
      "image/png": "[encoded data removed]",
      "text/plain": [
       "<Figure size 432x288 with 1 Axes>"
      ]
     },
     "metadata": {},
     "output_type": "display_data"
    }
   ],
   "source": [
    "\n",
    "VictimsTime = pd.DataFrame(GunVoilenceRawData_df.groupby(['date'])['Victims'].sum())\n",
    "VictimsTime = VictimsTime.reset_index()\n",
    "VictimsTime.columns = ['Date','Victims']\n",
    "VictimsTime['Date'] =pd.to_datetime(VictimsTime['Date'], format='%m/%d/%Y')\n",
    "VictimsTime['Month and Year'] = VictimsTime['Date'].dt.to_period('M')\n",
    "VictimsTime = VictimsTime.set_index('Month and Year')\n",
    "VictimsTime = pd.DataFrame(VictimsTime.groupby(['Month and Year']).sum())\n",
    "# VictimsTime.head()\n",
    "ShootingTime = pd.DataFrame(GunVoilenceRawData_df.groupby(['date']).size())\n",
    "ShootingTime = ShootingTime.reset_index()\n",
    "ShootingTime.columns = ['Date','ShootingCount']\n",
    "ShootingTime['Date'] =pd.to_datetime(ShootingTime['Date'], format='%m/%d/%Y')\n",
    "ShootingTime['Month and Year'] = ShootingTime['Date'].dt.to_period('M')\n",
    "ShootingTime = ShootingTime.set_index('Month and Year')\n",
    "ShootingTime = pd.DataFrame(ShootingTime.groupby(['Month and Year']).sum())\n",
    "# ShootingTime.head()\n",
    "GunViolence_Time=pd.concat([ShootingTime, VictimsTime], axis=1, join_axes=[ShootingTime.index])\n",
    "GunViolence_Time.head()\n",
    "GunViolence_Time.plot.line()\n",
    "for ax in plt.gcf().axes:\n",
    "    ax.get_lines()[0].set_color('turquoise')\n",
    "    ax.get_lines()[1].set_color('grey')\n",
    "plt.title(\"Shootings and Victims Total by Month\")\n",
    "plt.legend()\n",
    "plt.savefig('ShootingVictimsTotal.jpeg', dpi = 300)\n"
   ]
  },
  {
   "cell_type": "markdown",
   "metadata": {},
   "source": [
    "# Year on year data by state"
   ]
  },
  {
   "cell_type": "code",
   "execution_count": 53,
   "metadata": {},
   "outputs": [
    {
     "data": {
      "text/html": [
       "<div>\n",
       "<style scoped>\n",
       "    .dataframe tbody tr th:only-of-type {\n",
       "        vertical-align: middle;\n",
       "    }\n",
       "\n",
       "    .dataframe tbody tr th {\n",
       "        vertical-align: top;\n",
       "    }\n",
       "\n",
       "    .dataframe thead th {\n",
       "        text-align: right;\n",
       "    }\n",
       "</style>\n",
       "<table border=\"1\" class=\"dataframe\">\n",
       "  <thead>\n",
       "    <tr style=\"text-align: right;\">\n",
       "      <th></th>\n",
       "      <th>state</th>\n",
       "      <th>Year</th>\n",
       "      <th>Victims</th>\n",
       "      <th>incident_id</th>\n",
       "    </tr>\n",
       "  </thead>\n",
       "  <tbody>\n",
       "    <tr>\n",
       "      <th>0</th>\n",
       "      <td>Alabama</td>\n",
       "      <td>2014</td>\n",
       "      <td>916</td>\n",
       "      <td>1318</td>\n",
       "    </tr>\n",
       "    <tr>\n",
       "      <th>1</th>\n",
       "      <td>Alabama</td>\n",
       "      <td>2015</td>\n",
       "      <td>947</td>\n",
       "      <td>1034</td>\n",
       "    </tr>\n",
       "    <tr>\n",
       "      <th>2</th>\n",
       "      <td>Alabama</td>\n",
       "      <td>2016</td>\n",
       "      <td>1249</td>\n",
       "      <td>1309</td>\n",
       "    </tr>\n",
       "    <tr>\n",
       "      <th>3</th>\n",
       "      <td>Alabama</td>\n",
       "      <td>2017</td>\n",
       "      <td>1400</td>\n",
       "      <td>1461</td>\n",
       "    </tr>\n",
       "    <tr>\n",
       "      <th>4</th>\n",
       "      <td>Alabama</td>\n",
       "      <td>2018</td>\n",
       "      <td>354</td>\n",
       "      <td>347</td>\n",
       "    </tr>\n",
       "  </tbody>\n",
       "</table>\n",
       "</div>"
      ],
      "text/plain": [
       "     state  Year  Victims  incident_id\n",
       "0  Alabama  2014      916         1318\n",
       "1  Alabama  2015      947         1034\n",
       "2  Alabama  2016     1249         1309\n",
       "3  Alabama  2017     1400         1461\n",
       "4  Alabama  2018      354          347"
      ]
     },
     "execution_count": 53,
     "metadata": {},
     "output_type": "execute_result"
    }
   ],
   "source": [
    "#Find valuable data using lists - Year on Year count per State\n",
    "Y2YStateData = pd.DataFrame(GunVoilenceRawData_df.groupby(['state','Year'])['Victims'].sum())\n",
    "Y2YStateData= Y2YStateData.reset_index()\n",
    "Y2YStateData.columns = ['state', 'Year','Victims']\n",
    "Y2YStateData.head()\n",
    "\n",
    "\n",
    "Victim2017Data = pd.DataFrame(GunVoilenceRawData_df.groupby(['state','Year'])['incident_id'].count())\n",
    "Victim2017Data= Victim2017Data.reset_index()\n",
    "Victim2017Data.head()\n",
    "\n",
    "Y2YStateData = Y2YStateData.merge(Victim2017Data[[\"state\", \"Year\",\"incident_id\"]])\n",
    "Y2YStateData.head()"
   ]
  },
  {
   "cell_type": "code",
   "execution_count": 68,
   "metadata": {},
   "outputs": [
    {
     "data": {
      "text/html": [
       "<div>\n",
       "<style scoped>\n",
       "    .dataframe tbody tr th:only-of-type {\n",
       "        vertical-align: middle;\n",
       "    }\n",
       "\n",
       "    .dataframe tbody tr th {\n",
       "        vertical-align: top;\n",
       "    }\n",
       "\n",
       "    .dataframe thead th {\n",
       "        text-align: right;\n",
       "    }\n",
       "</style>\n",
       "<table border=\"1\" class=\"dataframe\">\n",
       "  <thead>\n",
       "    <tr style=\"text-align: right;\">\n",
       "      <th></th>\n",
       "      <th>index</th>\n",
       "      <th>state</th>\n",
       "      <th>Year</th>\n",
       "      <th>Victims</th>\n",
       "      <th>incident_id</th>\n",
       "      <th>AmountofGunLaws</th>\n",
       "      <th>population</th>\n",
       "      <th>PerCapitaVictims</th>\n",
       "      <th>PerCapitaIncident</th>\n",
       "    </tr>\n",
       "  </thead>\n",
       "  <tbody>\n",
       "    <tr>\n",
       "      <th>4</th>\n",
       "      <td>23</td>\n",
       "      <td>California</td>\n",
       "      <td>2017</td>\n",
       "      <td>3376</td>\n",
       "      <td>4588</td>\n",
       "      <td>107</td>\n",
       "      <td>39536653</td>\n",
       "      <td>8.538912</td>\n",
       "      <td>11.604422</td>\n",
       "    </tr>\n",
       "    <tr>\n",
       "      <th>6</th>\n",
       "      <td>33</td>\n",
       "      <td>Connecticut</td>\n",
       "      <td>2017</td>\n",
       "      <td>382</td>\n",
       "      <td>780</td>\n",
       "      <td>90</td>\n",
       "      <td>3588184</td>\n",
       "      <td>10.646054</td>\n",
       "      <td>21.738016</td>\n",
       "    </tr>\n",
       "    <tr>\n",
       "      <th>10</th>\n",
       "      <td>53</td>\n",
       "      <td>Hawaii</td>\n",
       "      <td>2017</td>\n",
       "      <td>28</td>\n",
       "      <td>68</td>\n",
       "      <td>79</td>\n",
       "      <td>1427538</td>\n",
       "      <td>1.961419</td>\n",
       "      <td>4.763446</td>\n",
       "    </tr>\n",
       "    <tr>\n",
       "      <th>28</th>\n",
       "      <td>158</td>\n",
       "      <td>New York</td>\n",
       "      <td>2017</td>\n",
       "      <td>1439</td>\n",
       "      <td>2031</td>\n",
       "      <td>76</td>\n",
       "      <td>19849399</td>\n",
       "      <td>7.249590</td>\n",
       "      <td>10.232048</td>\n",
       "    </tr>\n",
       "    <tr>\n",
       "      <th>26</th>\n",
       "      <td>148</td>\n",
       "      <td>New Jersey</td>\n",
       "      <td>2017</td>\n",
       "      <td>938</td>\n",
       "      <td>1342</td>\n",
       "      <td>75</td>\n",
       "      <td>9005644</td>\n",
       "      <td>10.415690</td>\n",
       "      <td>14.901766</td>\n",
       "    </tr>\n",
       "  </tbody>\n",
       "</table>\n",
       "</div>"
      ],
      "text/plain": [
       "    index        state  Year  Victims  incident_id  AmountofGunLaws  \\\n",
       "4      23   California  2017     3376         4588              107   \n",
       "6      33  Connecticut  2017      382          780               90   \n",
       "10     53       Hawaii  2017       28           68               79   \n",
       "28    158     New York  2017     1439         2031               76   \n",
       "26    148   New Jersey  2017      938         1342               75   \n",
       "\n",
       "    population  PerCapitaVictims  PerCapitaIncident  \n",
       "4     39536653          8.538912          11.604422  \n",
       "6      3588184         10.646054          21.738016  \n",
       "10     1427538          1.961419           4.763446  \n",
       "28    19849399          7.249590          10.232048  \n",
       "26     9005644         10.415690          14.901766  "
      ]
     },
     "execution_count": 68,
     "metadata": {},
     "output_type": "execute_result"
    }
   ],
   "source": [
    "Lawxls_path = (\"Gun_laws.xlsx\")\n",
    "GunLaw = pd.read_excel(Lawxls_path)\n",
    "GunLaw.head()\n",
    "\n",
    "\n",
    "Populationxls_path = (\"Population2017.xlsx\")\n",
    "Populationxls = pd.read_excel(Populationxls_path)\n",
    "Populationxls.head()\n",
    "\n",
    "\n",
    "# Number killed by state\n",
    "State2017Data = pd.DataFrame(Y2YStateData.loc[Y2YStateData['Year'].isin(['2017']).values])\n",
    "State2017Data= State2017Data.reset_index()\n",
    "State2017Data = State2017Data.merge(GunLaw[[\"AmountofGunLaws\", \"state\"]])\n",
    "State2017Data = State2017Data.merge(Populationxls[[\"population\",\"state\"]])\n",
    "State2017Data[\"PerCapitaVictims\"] = ((State2017Data[\"Victims\"]/State2017Data[\"population\"]) *100000)\n",
    "State2017Data[\"PerCapitaIncident\"] = ((State2017Data[\"incident_id\"]/State2017Data[\"population\"]) *100000)\n",
    "State2017Data = State2017Data.sort_values(\"AmountofGunLaws\", ascending=False)\n",
    "State2017Data.head()"
   ]
  },
  {
   "cell_type": "code",
   "execution_count": 88,
   "metadata": {},
   "outputs": [],
   "source": [
    "PerCapitaAverage = round(np.average(State2017Data[\"PerCapitaVictims\"]))\n",
    "GunLawAverage = round(np.average(State2017Data[\"AmountofGunLaws\"]))\n",
    "IncidentAverage = round(np.average(State2017Data[\"PerCapitaIncident\"]))"
   ]
  },
  {
   "cell_type": "code",
   "execution_count": 109,
   "metadata": {},
   "outputs": [
    {
     "data": {
      "image/png": "[encoded data removed]",
      "text/plain": [
       "<Figure size 1080x720 with 1 Axes>"
      ]
     },
     "metadata": {},
     "output_type": "display_data"
    }
   ],
   "source": [
    "plt.figure(figsize=(15,10))\n",
    "plt.plot(State2017Data[\"state\"], State2017Data[\"PerCapitaIncident\"], color=\"red\", linestyle='-',alpha=0.75,linewidth=2)\n",
    "plt.plot(State2017Data[\"state\"], State2017Data[\"AmountofGunLaws\"], color=\"turquoise\", linestyle='-',alpha=0.75,linewidth=2)\n",
    "plt.plot(State2017Data[\"state\"], round(State2017Data[\"PerCapitaVictims\"]), color=\"grey\",linestyle='-',alpha=0.75,linewidth=2)\n",
    "plt.axhline(y=IncidentAverage, color='r', linestyle='--',linewidth=2)\n",
    "plt.axhline(y=PerCapitaAverage, color='grey', linestyle='--',linewidth=2)\n",
    "plt.axhline(y=GunLawAverage, color='turquoise', linestyle='--',linewidth=2)\n",
    "plt.xticks(rotation='vertical')\n",
    "lables = [\"PerCapitaIncident\",\"Amount of Gun Laws\",\"PerCapita Victims\",\"PerCapitaIncident National Avg\",\"PerCapita Victims National Average\",\"Gunlaws National Average\"]\n",
    "plt.legend(lables)\n",
    "plt.title(\"2017 States by Population, Gunlaws and PerCapita (GunViolenceVictims)\")\n",
    "plt.ylabel('GunLaws, PerCapita Victims & Incidents ',fontsize=15)\n",
    "plt.xlabel('States of UN',fontsize=15)\n",
    "plt.savefig('2017StatesGunlawsPerCapita.jpeg')"
   ]
  },
  {
   "cell_type": "code",
   "execution_count": 79,
   "metadata": {},
   "outputs": [
    {
     "data": {
      "text/html": [
       "<div>\n",
       "<style scoped>\n",
       "    .dataframe tbody tr th:only-of-type {\n",
       "        vertical-align: middle;\n",
       "    }\n",
       "\n",
       "    .dataframe tbody tr th {\n",
       "        vertical-align: top;\n",
       "    }\n",
       "\n",
       "    .dataframe thead th {\n",
       "        text-align: right;\n",
       "    }\n",
       "</style>\n",
       "<table border=\"1\" class=\"dataframe\">\n",
       "  <thead>\n",
       "    <tr style=\"text-align: right;\">\n",
       "      <th></th>\n",
       "      <th>Year</th>\n",
       "      <th>Victims</th>\n",
       "      <th>population</th>\n",
       "      <th>PerCapitaVictims</th>\n",
       "      <th>PopGrowthRate</th>\n",
       "      <th>PerCapitaVictimRate</th>\n",
       "    </tr>\n",
       "  </thead>\n",
       "  <tbody>\n",
       "    <tr>\n",
       "      <th>0</th>\n",
       "      <td>2014</td>\n",
       "      <td>35559</td>\n",
       "      <td>316234505</td>\n",
       "      <td>11.244504</td>\n",
       "      <td>NaN</td>\n",
       "      <td>NaN</td>\n",
       "    </tr>\n",
       "    <tr>\n",
       "      <th>1</th>\n",
       "      <td>2015</td>\n",
       "      <td>40451</td>\n",
       "      <td>318622525</td>\n",
       "      <td>12.695587</td>\n",
       "      <td>0.755142</td>\n",
       "      <td>12.904825</td>\n",
       "    </tr>\n",
       "    <tr>\n",
       "      <th>2</th>\n",
       "      <td>2016</td>\n",
       "      <td>45646</td>\n",
       "      <td>321039839</td>\n",
       "      <td>14.218173</td>\n",
       "      <td>0.758676</td>\n",
       "      <td>11.993034</td>\n",
       "    </tr>\n",
       "    <tr>\n",
       "      <th>3</th>\n",
       "      <td>2017</td>\n",
       "      <td>46214</td>\n",
       "      <td>323405935</td>\n",
       "      <td>14.289781</td>\n",
       "      <td>0.737010</td>\n",
       "      <td>0.503637</td>\n",
       "    </tr>\n",
       "  </tbody>\n",
       "</table>\n",
       "</div>"
      ],
      "text/plain": [
       "   Year  Victims  population  PerCapitaVictims  PopGrowthRate  \\\n",
       "0  2014    35559   316234505         11.244504            NaN   \n",
       "1  2015    40451   318622525         12.695587       0.755142   \n",
       "2  2016    45646   321039839         14.218173       0.758676   \n",
       "3  2017    46214   323405935         14.289781       0.737010   \n",
       "\n",
       "   PerCapitaVictimRate  \n",
       "0                  NaN  \n",
       "1            12.904825  \n",
       "2            11.993034  \n",
       "3             0.503637  "
      ]
     },
     "execution_count": 79,
     "metadata": {},
     "output_type": "execute_result"
    }
   ],
   "source": [
    "USPopulationxls_path = (\"2010to2018USPopulation.xlsx\")\n",
    "USPopulation = pd.read_excel(USPopulationxls_path)\n",
    "USPopulation.head()\n",
    "\n",
    "USVictims = pd.DataFrame(Y2YStateData.groupby(['Year'])['Victims'].sum())\n",
    "USVictims=USVictims.reset_index()\n",
    "\n",
    "USVictims = USVictims.merge(USPopulation[[\"population\",\"Year\"]])\n",
    "\n",
    "USVictims[\"PerCapitaVictims\"] = (USVictims[\"Victims\"]/USVictims[\"population\"] *100000)\n",
    "\n",
    "USVictims = USVictims[(USVictims.Year != 2018)]\n",
    "\n",
    "for i in range(1, len(USVictims)):\n",
    "    USVictims.loc[i, \"PopGrowthRate\"] = ((USVictims.loc[i, 'population'] - USVictims.loc[i-1, 'population']) /USVictims.loc[i-1, 'population'])*100\n",
    "for i in range(1, len(USVictims)):\n",
    "    USVictims.loc[i, \"PerCapitaVictimRate\"] = ((USVictims.loc[i, 'PerCapitaVictims'] - USVictims.loc[i-1, 'PerCapitaVictims']) /USVictims.loc[i-1, 'PerCapitaVictims'])*100\n",
    "# USVictims = USVictims[(USVictims.Year != 2014)]\n",
    "USVictims"
   ]
  },
  {
   "cell_type": "code",
   "execution_count": 92,
   "metadata": {},
   "outputs": [
    {
     "data": {
      "text/plain": [
       "[<matplotlib.lines.Line2D at 0x2aa825e62e8>]"
      ]
     },
     "execution_count": 92,
     "metadata": {},
     "output_type": "execute_result"
    },
    {
     "data": {
      "image/png": "[encoded data removed]",
      "text/plain": [
       "<Figure size 1080x720 with 1 Axes>"
      ]
     },
     "metadata": {},
     "output_type": "display_data"
    }
   ],
   "source": [
    "plt.figure(figsize=(15,10))\n",
    "plt.plot(USVictims[\"Year\"], USVictims[\"PopGrowthRate\"], color=\"red\", linestyle='-',alpha=0.75,linewidth=2)\n",
    "plt.plot(USVictims[\"Year\"], USVictims[\"PerCapitaVictimRate\"], color=\"green\", linestyle='-',alpha=0.75,linewidth=2)\n",
    "#  plt.plot(USVictims[\"Year\"], USVictims[\"population\"], color=\"red\", linestyle='-',alpha=0.75,linewidth=2)"
   ]
  },
  {
   "cell_type": "code",
   "execution_count": 72,
   "metadata": {},
   "outputs": [
    {
     "data": {
      "image/png": "[encoded data removed]",
      "text/plain": [
       "<Figure size 432x288 with 2 Axes>"
      ]
     },
     "metadata": {},
     "output_type": "display_data"
    }
   ],
   "source": [
    "f, (ax, ax2) = plt.subplots(2, 1, sharex=True)\n",
    "# plt.plot(USVictims[\"Year\"].astype(str), USVictims[\"PerCapita\"], color=\"navy\", linestyle='--',alpha=0.75,linewidth=2,marker=\"o\")\n",
    "ax2.plot(USVictims[\"Year\"].astype(str), USVictims[\"PerCapitaVictimRate\"], color=\"red\", linestyle='-',alpha=0.75,linewidth=2,marker=\"o\")\n",
    "ax.plot(USVictims[\"Year\"].astype(str), USVictims[\"PopGrowthRate\"], color=\"green\", linestyle='-',alpha=0.75,linewidth=2,marker=\"o\")\n",
    "ax.spines['bottom'].set_visible(False)\n",
    "ax2.spines['top'].set_visible(False)\n",
    "plt.title(\"Growth Rate of Population & Victim PerCapita over years\")\n",
    "plt.savefig('GrowthRate.png', dpi = 300)"
   ]
  },
  {
   "cell_type": "code",
   "execution_count": 73,
   "metadata": {},
   "outputs": [
    {
     "data": {
      "text/html": [
       "<div>\n",
       "<style scoped>\n",
       "    .dataframe tbody tr th:only-of-type {\n",
       "        vertical-align: middle;\n",
       "    }\n",
       "\n",
       "    .dataframe tbody tr th {\n",
       "        vertical-align: top;\n",
       "    }\n",
       "\n",
       "    .dataframe thead th {\n",
       "        text-align: right;\n",
       "    }\n",
       "</style>\n",
       "<table border=\"1\" class=\"dataframe\">\n",
       "  <thead>\n",
       "    <tr style=\"text-align: right;\">\n",
       "      <th></th>\n",
       "      <th>state</th>\n",
       "      <th>incident_id</th>\n",
       "    </tr>\n",
       "  </thead>\n",
       "  <tbody>\n",
       "    <tr>\n",
       "      <th>0</th>\n",
       "      <td>Alabama</td>\n",
       "      <td>5469</td>\n",
       "    </tr>\n",
       "    <tr>\n",
       "      <th>1</th>\n",
       "      <td>Alaska</td>\n",
       "      <td>1349</td>\n",
       "    </tr>\n",
       "    <tr>\n",
       "      <th>2</th>\n",
       "      <td>Arizona</td>\n",
       "      <td>2323</td>\n",
       "    </tr>\n",
       "    <tr>\n",
       "      <th>3</th>\n",
       "      <td>Arkansas</td>\n",
       "      <td>2842</td>\n",
       "    </tr>\n",
       "    <tr>\n",
       "      <th>4</th>\n",
       "      <td>California</td>\n",
       "      <td>16267</td>\n",
       "    </tr>\n",
       "  </tbody>\n",
       "</table>\n",
       "</div>"
      ],
      "text/plain": [
       "        state  incident_id\n",
       "0     Alabama         5469\n",
       "1      Alaska         1349\n",
       "2     Arizona         2323\n",
       "3    Arkansas         2842\n",
       "4  California        16267"
      ]
     },
     "execution_count": 73,
     "metadata": {},
     "output_type": "execute_result"
    }
   ],
   "source": [
    "# Number of killed by state\n",
    "StateData = pd.DataFrame(Y2YStateData.groupby(['state'])['incident_id'].sum())\n",
    "StateData= StateData.reset_index()\n",
    "StateData.head()"
   ]
  },
  {
   "cell_type": "code",
   "execution_count": 60,
   "metadata": {},
   "outputs": [],
   "source": [
    "# Melody to plot\n"
   ]
  },
  {
   "cell_type": "code",
   "execution_count": 61,
   "metadata": {},
   "outputs": [
    {
     "data": {
      "text/html": [
       "<div>\n",
       "<style scoped>\n",
       "    .dataframe tbody tr th:only-of-type {\n",
       "        vertical-align: middle;\n",
       "    }\n",
       "\n",
       "    .dataframe tbody tr th {\n",
       "        vertical-align: top;\n",
       "    }\n",
       "\n",
       "    .dataframe thead th {\n",
       "        text-align: right;\n",
       "    }\n",
       "</style>\n",
       "<table border=\"1\" class=\"dataframe\">\n",
       "  <thead>\n",
       "    <tr style=\"text-align: right;\">\n",
       "      <th></th>\n",
       "      <th>state</th>\n",
       "      <th>n_killed</th>\n",
       "      <th>n_injured</th>\n",
       "      <th>Killed%</th>\n",
       "      <th>Injured%</th>\n",
       "    </tr>\n",
       "  </thead>\n",
       "  <tbody>\n",
       "    <tr>\n",
       "      <th>0</th>\n",
       "      <td>Alabama</td>\n",
       "      <td>1877</td>\n",
       "      <td>2989</td>\n",
       "      <td>0.385738</td>\n",
       "      <td>0.614262</td>\n",
       "    </tr>\n",
       "    <tr>\n",
       "      <th>1</th>\n",
       "      <td>Alaska</td>\n",
       "      <td>267</td>\n",
       "      <td>325</td>\n",
       "      <td>0.451014</td>\n",
       "      <td>0.548986</td>\n",
       "    </tr>\n",
       "    <tr>\n",
       "      <th>2</th>\n",
       "      <td>Arizona</td>\n",
       "      <td>1086</td>\n",
       "      <td>1080</td>\n",
       "      <td>0.501385</td>\n",
       "      <td>0.498615</td>\n",
       "    </tr>\n",
       "    <tr>\n",
       "      <th>3</th>\n",
       "      <td>Arkansas</td>\n",
       "      <td>773</td>\n",
       "      <td>1347</td>\n",
       "      <td>0.364623</td>\n",
       "      <td>0.635377</td>\n",
       "    </tr>\n",
       "    <tr>\n",
       "      <th>4</th>\n",
       "      <td>California</td>\n",
       "      <td>5516</td>\n",
       "      <td>7505</td>\n",
       "      <td>0.423623</td>\n",
       "      <td>0.576377</td>\n",
       "    </tr>\n",
       "  </tbody>\n",
       "</table>\n",
       "</div>"
      ],
      "text/plain": [
       "        state  n_killed  n_injured   Killed%  Injured%\n",
       "0     Alabama      1877       2989  0.385738  0.614262\n",
       "1      Alaska       267        325  0.451014  0.548986\n",
       "2     Arizona      1086       1080  0.501385  0.498615\n",
       "3    Arkansas       773       1347  0.364623  0.635377\n",
       "4  California      5516       7505  0.423623  0.576377"
      ]
     },
     "execution_count": 61,
     "metadata": {},
     "output_type": "execute_result"
    }
   ],
   "source": [
    "# Number of killed vs injured data\n",
    "USAKilled = pd.DataFrame(GunVoilenceRawData_df.groupby(['state'])['n_killed'].sum())\n",
    "USAKilled = USAKilled.reset_index()\n",
    "USAInjured = pd.DataFrame(GunVoilenceRawData_df.groupby(['state'])['n_injured'].sum())\n",
    "USAInjured= USAInjured.reset_index()\n",
    "USAInjuredvsKilled = pd.merge(USAKilled,USAInjured, on=['state'])\n",
    "USAInjuredvsKilled[\"Killed%\"] = USAInjuredvsKilled[\"n_killed\"]/(USAInjuredvsKilled[\"n_killed\"]+USAInjuredvsKilled[\"n_injured\"])\n",
    "USAInjuredvsKilled[\"Injured%\"] = USAInjuredvsKilled[\"n_injured\"]/(USAInjuredvsKilled[\"n_killed\"]+USAInjuredvsKilled[\"n_injured\"])\n",
    "USAInjuredvsKilled.head()"
   ]
  },
  {
   "cell_type": "code",
   "execution_count": 62,
   "metadata": {},
   "outputs": [],
   "source": [
    "# Melody to plot"
   ]
  },
  {
   "cell_type": "code",
   "execution_count": 63,
   "metadata": {},
   "outputs": [
    {
     "data": {
      "text/html": [
       "<div>\n",
       "<style scoped>\n",
       "    .dataframe tbody tr th:only-of-type {\n",
       "        vertical-align: middle;\n",
       "    }\n",
       "\n",
       "    .dataframe tbody tr th {\n",
       "        vertical-align: top;\n",
       "    }\n",
       "\n",
       "    .dataframe thead th {\n",
       "        text-align: right;\n",
       "    }\n",
       "</style>\n",
       "<table border=\"1\" class=\"dataframe\">\n",
       "  <thead>\n",
       "    <tr style=\"text-align: right;\">\n",
       "      <th></th>\n",
       "      <th>state</th>\n",
       "      <th>n_killed</th>\n",
       "      <th>n_injured</th>\n",
       "      <th>Killed%</th>\n",
       "      <th>Injured%</th>\n",
       "    </tr>\n",
       "  </thead>\n",
       "  <tbody>\n",
       "    <tr>\n",
       "      <th>4</th>\n",
       "      <td>California</td>\n",
       "      <td>5516</td>\n",
       "      <td>7505</td>\n",
       "      <td>0.423623</td>\n",
       "      <td>0.576377</td>\n",
       "    </tr>\n",
       "    <tr>\n",
       "      <th>42</th>\n",
       "      <td>Texas</td>\n",
       "      <td>5022</td>\n",
       "      <td>6065</td>\n",
       "      <td>0.452963</td>\n",
       "      <td>0.547037</td>\n",
       "    </tr>\n",
       "  </tbody>\n",
       "</table>\n",
       "</div>"
      ],
      "text/plain": [
       "         state  n_killed  n_injured   Killed%  Injured%\n",
       "4   California      5516       7505  0.423623  0.576377\n",
       "42       Texas      5022       6065  0.452963  0.547037"
      ]
     },
     "execution_count": 63,
     "metadata": {},
     "output_type": "execute_result"
    }
   ],
   "source": [
    "# Texas and California - Number of killed vs injured data\n",
    "TexasCalifornia = USAInjuredvsKilled.loc[USAInjuredvsKilled['state'].isin(['Texas','California'])]\n",
    "TexasCalifornia"
   ]
  },
  {
   "cell_type": "code",
   "execution_count": null,
   "metadata": {},
   "outputs": [],
   "source": []
  },
  {
   "cell_type": "code",
   "execution_count": 64,
   "metadata": {},
   "outputs": [
    {
     "data": {
      "text/html": [
       "<div>\n",
       "<style scoped>\n",
       "    .dataframe tbody tr th:only-of-type {\n",
       "        vertical-align: middle;\n",
       "    }\n",
       "\n",
       "    .dataframe tbody tr th {\n",
       "        vertical-align: top;\n",
       "    }\n",
       "\n",
       "    .dataframe thead th {\n",
       "        text-align: right;\n",
       "    }\n",
       "</style>\n",
       "<table border=\"1\" class=\"dataframe\">\n",
       "  <thead>\n",
       "    <tr style=\"text-align: right;\">\n",
       "      <th></th>\n",
       "      <th>Year</th>\n",
       "      <th>Month</th>\n",
       "      <th>n_killed</th>\n",
       "    </tr>\n",
       "  </thead>\n",
       "  <tbody>\n",
       "    <tr>\n",
       "      <th>0</th>\n",
       "      <td>2014</td>\n",
       "      <td>Apr</td>\n",
       "      <td>979</td>\n",
       "    </tr>\n",
       "    <tr>\n",
       "      <th>1</th>\n",
       "      <td>2014</td>\n",
       "      <td>Aug</td>\n",
       "      <td>1140</td>\n",
       "    </tr>\n",
       "    <tr>\n",
       "      <th>2</th>\n",
       "      <td>2014</td>\n",
       "      <td>Dec</td>\n",
       "      <td>1086</td>\n",
       "    </tr>\n",
       "    <tr>\n",
       "      <th>3</th>\n",
       "      <td>2014</td>\n",
       "      <td>Feb</td>\n",
       "      <td>845</td>\n",
       "    </tr>\n",
       "    <tr>\n",
       "      <th>4</th>\n",
       "      <td>2014</td>\n",
       "      <td>Jan</td>\n",
       "      <td>1070</td>\n",
       "    </tr>\n",
       "  </tbody>\n",
       "</table>\n",
       "</div>"
      ],
      "text/plain": [
       "   Year Month  n_killed\n",
       "0  2014   Apr       979\n",
       "1  2014   Aug      1140\n",
       "2  2014   Dec      1086\n",
       "3  2014   Feb       845\n",
       "4  2014   Jan      1070"
      ]
     },
     "execution_count": 64,
     "metadata": {},
     "output_type": "execute_result"
    }
   ],
   "source": [
    "#People killed by month\n",
    "MonthWiseKilled = pd.DataFrame(GunVoilenceRawData_df.groupby(['Year','Month'])['n_killed'].sum())\n",
    "MonthWiseKilled= MonthWiseKilled.reset_index()\n",
    "MonthWiseKilled.head()"
   ]
  },
  {
   "cell_type": "code",
   "execution_count": 65,
   "metadata": {},
   "outputs": [],
   "source": [
    "# Melody to plot"
   ]
  },
  {
   "cell_type": "code",
   "execution_count": 66,
   "metadata": {},
   "outputs": [
    {
     "data": {
      "text/html": [
       "<div>\n",
       "<style scoped>\n",
       "    .dataframe tbody tr th:only-of-type {\n",
       "        vertical-align: middle;\n",
       "    }\n",
       "\n",
       "    .dataframe tbody tr th {\n",
       "        vertical-align: top;\n",
       "    }\n",
       "\n",
       "    .dataframe thead th {\n",
       "        text-align: right;\n",
       "    }\n",
       "</style>\n",
       "<table border=\"1\" class=\"dataframe\">\n",
       "  <thead>\n",
       "    <tr style=\"text-align: right;\">\n",
       "      <th></th>\n",
       "      <th>Year</th>\n",
       "      <th>Month</th>\n",
       "      <th>n_injured</th>\n",
       "    </tr>\n",
       "  </thead>\n",
       "  <tbody>\n",
       "    <tr>\n",
       "      <th>0</th>\n",
       "      <td>2014</td>\n",
       "      <td>Apr</td>\n",
       "      <td>1782</td>\n",
       "    </tr>\n",
       "    <tr>\n",
       "      <th>1</th>\n",
       "      <td>2014</td>\n",
       "      <td>Aug</td>\n",
       "      <td>2298</td>\n",
       "    </tr>\n",
       "    <tr>\n",
       "      <th>2</th>\n",
       "      <td>2014</td>\n",
       "      <td>Dec</td>\n",
       "      <td>1906</td>\n",
       "    </tr>\n",
       "    <tr>\n",
       "      <th>3</th>\n",
       "      <td>2014</td>\n",
       "      <td>Feb</td>\n",
       "      <td>1223</td>\n",
       "    </tr>\n",
       "    <tr>\n",
       "      <th>4</th>\n",
       "      <td>2014</td>\n",
       "      <td>Jan</td>\n",
       "      <td>1875</td>\n",
       "    </tr>\n",
       "  </tbody>\n",
       "</table>\n",
       "</div>"
      ],
      "text/plain": [
       "   Year Month  n_injured\n",
       "0  2014   Apr       1782\n",
       "1  2014   Aug       2298\n",
       "2  2014   Dec       1906\n",
       "3  2014   Feb       1223\n",
       "4  2014   Jan       1875"
      ]
     },
     "execution_count": 66,
     "metadata": {},
     "output_type": "execute_result"
    }
   ],
   "source": [
    "#People killed by month\n",
    "MonthWiseInjured = pd.DataFrame(GunVoilenceRawData_df.groupby(['Year','Month'])['n_injured'].sum())\n",
    "MonthWiseInjured= MonthWiseInjured.reset_index()\n",
    "MonthWiseInjured.head()"
   ]
  },
  {
   "cell_type": "code",
   "execution_count": 67,
   "metadata": {},
   "outputs": [
    {
     "data": {
      "text/plain": [
       "state                     446\n",
       "congressional_district    446\n",
       "ShootingCount             446\n",
       "dtype: int64"
      ]
     },
     "execution_count": 67,
     "metadata": {},
     "output_type": "execute_result"
    }
   ],
   "source": [
    "#Gun violence by congressional district\n",
    "DistrictWise_Data = pd.DataFrame(GunVoilenceRawData_df.groupby(['state','congressional_district']).size())\n",
    "DistrictWise_Data= DistrictWise_Data.reset_index()\n",
    "DistrictWise_Data.columns = ['state', 'congressional_district','ShootingCount']\n",
    "DistrictWise_Data.count()"
   ]
  },
  {
   "cell_type": "code",
   "execution_count": 28,
   "metadata": {},
   "outputs": [],
   "source": [
    "# Melody to plot"
   ]
  },
  {
   "cell_type": "code",
   "execution_count": 29,
   "metadata": {},
   "outputs": [],
   "source": [
    "#Merge/Rename columns if any overlap with different data"
   ]
  },
  {
   "cell_type": "code",
   "execution_count": 30,
   "metadata": {},
   "outputs": [],
   "source": [
    "#Add columns to generate more specific data that could be useful for analysis"
   ]
  },
  {
   "cell_type": "code",
   "execution_count": 31,
   "metadata": {},
   "outputs": [],
   "source": [
    "#Add Bins putting data into catagories if numbers are involved"
   ]
  },
  {
   "cell_type": "code",
   "execution_count": 32,
   "metadata": {},
   "outputs": [],
   "source": [
    "# Find total/average data - use indexes"
   ]
  },
  {
   "cell_type": "code",
   "execution_count": 33,
   "metadata": {},
   "outputs": [],
   "source": [
    "#Sort Data "
   ]
  },
  {
   "cell_type": "code",
   "execution_count": 34,
   "metadata": {},
   "outputs": [],
   "source": [
    "#Find amount of tweets/social media used to cover the topic chosen"
   ]
  },
  {
   "cell_type": "code",
   "execution_count": 35,
   "metadata": {},
   "outputs": [],
   "source": [
    "#Use API url/query to gather information to determine other data"
   ]
  },
  {
   "cell_type": "code",
   "execution_count": 36,
   "metadata": {},
   "outputs": [],
   "source": [
    "#Create Dataframe for Data showing the type of data, when it occured, how it occured, etc."
   ]
  },
  {
   "cell_type": "code",
   "execution_count": 37,
   "metadata": {},
   "outputs": [],
   "source": [
    "#Plot Pie Graph to show percentages of Data"
   ]
  },
  {
   "cell_type": "code",
   "execution_count": 38,
   "metadata": {},
   "outputs": [],
   "source": [
    "#Plot Bar Graph/Line Graph/Scatter to show correlations between Data "
   ]
  },
  {
   "cell_type": "code",
   "execution_count": 39,
   "metadata": {},
   "outputs": [],
   "source": [
    "#Explain trend(Education level vs. Unemployment level per zones)\n",
    "#Explain trend (Education level vs. Median Age)\n",
    "#Explain trend (Education level vs. Household income)\n",
    "#Explain trend "
   ]
  },
  {
   "cell_type": "code",
   "execution_count": 40,
   "metadata": {},
   "outputs": [],
   "source": [
    "#Export Graph images"
   ]
  }
 ],
 "metadata": {
  "kernelspec": {
   "display_name": "Python 3",
   "language": "python",
   "name": "python3"
  },
  "language_info": {
   "codemirror_mode": {
    "name": "ipython",
    "version": 3
   },
   "file_extension": ".py",
   "mimetype": "text/x-python",
   "name": "python",
   "nbconvert_exporter": "python",
   "pygments_lexer": "ipython3",
   "version": "3.6.5"
  }
 },
 "nbformat": 4,
 "nbformat_minor": 2
}
