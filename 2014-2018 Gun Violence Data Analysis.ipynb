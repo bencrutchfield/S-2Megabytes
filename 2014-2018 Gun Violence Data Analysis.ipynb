{
 "cells": [
  {
   "cell_type": "markdown",
   "metadata": {},
   "source": [
    "# **Project 1** - Providing Insights on Gun Voilence Data in America"
   ]
  },
  {
   "cell_type": "markdown",
   "metadata": {},
   "source": [
    "Participants\n",
    "Sheela Srinivasa\n",
    "Ben Crutchfield\n",
    "Melody Yunchen Zhang\n",
    "Kumar Siddharth\n",
    "The main purpose of the project is to provide insight to the gun voilence data using statistics and visualization methods available in Python and available packages like Pandas, matplotlib etc. The dataset was obtained from [http://www.kaggle.com ], but it was originally downloaded from [http://www.gunviolencearchive.org/ ]. The dataset contains records of more than 260k gun voilence incidents in the US between January 2013 and March 2018, inclusive.\n",
    "\n",
    "Gun Violence Archive (GVA) is a not for profit corporation formed in 2013 to provide free online public access to accurate information about gun-related violence in the United States."
   ]
  },
  {
   "cell_type": "markdown",
   "metadata": {},
   "source": [
    "## Import Dependencies"
   ]
  },
  {
   "cell_type": "code",
   "execution_count": 1,
   "metadata": {},
   "outputs": [
    {
     "ename": "ModuleNotFoundError",
     "evalue": "No module named 'plotly'",
     "output_type": "error",
     "traceback": [
      "\u001b[1;31m---------------------------------------------------------------------------\u001b[0m",
      "\u001b[1;31mModuleNotFoundError\u001b[0m                       Traceback (most recent call last)",
      "\u001b[1;32m<ipython-input-1-9913fa6745fa>\u001b[0m in \u001b[0;36m<module>\u001b[1;34m()\u001b[0m\n\u001b[0;32m     14\u001b[0m \u001b[1;33m\u001b[0m\u001b[0m\n\u001b[0;32m     15\u001b[0m \u001b[1;33m\u001b[0m\u001b[0m\n\u001b[1;32m---> 16\u001b[1;33m \u001b[1;32mimport\u001b[0m \u001b[0mplotly\u001b[0m\u001b[1;33m\u001b[0m\u001b[0m\n\u001b[0m\u001b[0;32m     17\u001b[0m \u001b[0mplotly\u001b[0m\u001b[1;33m.\u001b[0m\u001b[0mtools\u001b[0m\u001b[1;33m.\u001b[0m\u001b[0mset_credentials_file\u001b[0m\u001b[1;33m(\u001b[0m\u001b[0musername\u001b[0m\u001b[1;33m=\u001b[0m\u001b[1;34m'melody9178'\u001b[0m\u001b[1;33m,\u001b[0m \u001b[0mapi_key\u001b[0m\u001b[1;33m=\u001b[0m\u001b[1;34m'W5hhLb4CAn9Bk6cpOUjc'\u001b[0m\u001b[1;33m)\u001b[0m\u001b[1;33m\u001b[0m\u001b[0m\n\u001b[0;32m     18\u001b[0m \u001b[1;32mimport\u001b[0m \u001b[0mplotly\u001b[0m\u001b[1;33m.\u001b[0m\u001b[0mplotly\u001b[0m \u001b[1;32mas\u001b[0m \u001b[0mpy\u001b[0m\u001b[1;33m\u001b[0m\u001b[0m\n",
      "\u001b[1;31mModuleNotFoundError\u001b[0m: No module named 'plotly'"
     ]
    }
   ],
   "source": [
    "\n",
    "import random\n",
    "import requests\n",
    "import pandas as pd\n",
    "import time\n",
    "#import openweathermapy.core as owm\n",
    "import matplotlib.pyplot as plt\n",
    "# from config import api_key\n",
    "import numpy as np\n",
    "import csv\n",
    "import datetime\n",
    "import seaborn as sns\n",
    "import calendar\n",
    "\n",
    "\n",
    "import plotly\n",
    "plotly.tools.set_credentials_file(username='melody9178', api_key='W5hhLb4CAn9Bk6cpOUjc')\n",
    "import plotly.plotly as py\n",
    "import plotly.figure_factory as ff\n",
    "import plotly.graph_objs as go"
   ]
  },
  {
   "cell_type": "code",
   "execution_count": null,
   "metadata": {},
   "outputs": [],
   "source": [
    "#Import CSV/API\n",
    "csv_path = \"gun-violence-data_01-2013_03-2018.csv\"\n",
    "GunVoilenceRawData_df = pd.read_csv(csv_path)"
   ]
  },
  {
   "cell_type": "code",
   "execution_count": null,
   "metadata": {},
   "outputs": [],
   "source": [
    "# Include additional columns Year and Month\n",
    "GunVoilenceRawData_df[\"Year\"] = pd.DatetimeIndex(GunVoilenceRawData_df['date']).year\n",
    "GunVoilenceRawData_df = GunVoilenceRawData_df[(GunVoilenceRawData_df.Year != 2013)]\n",
    "GunVoilenceRawData_df[\"Month\"] = pd.DatetimeIndex(GunVoilenceRawData_df['date']).month\n",
    "GunVoilenceRawData_df['Month'] = GunVoilenceRawData_df['Month'].apply(lambda x: calendar.month_abbr[x])\n",
    "GunVoilenceRawData_df['Victims'] = GunVoilenceRawData_df[\"n_killed\"] + GunVoilenceRawData_df[\"n_injured\"]\n"
   ]
  },
  {
   "cell_type": "code",
   "execution_count": null,
   "metadata": {},
   "outputs": [],
   "source": [
    "#Data Cleanup - Replace \"District of Columbia\" value with \"Washington\"\n",
    "GunVoilenceRawData_df = GunVoilenceRawData_df.replace('District of Columbia', 'Maryland')"
   ]
  },
  {
   "cell_type": "code",
   "execution_count": null,
   "metadata": {},
   "outputs": [],
   "source": [
    "# Print cleaned up date\n",
    "GunVoilenceRawData_df.head()"
   ]
  },
  {
   "cell_type": "markdown",
   "metadata": {},
   "source": [
    "# Shootings by State"
   ]
  },
  {
   "cell_type": "code",
   "execution_count": null,
   "metadata": {},
   "outputs": [],
   "source": [
    "#Find valuable data using lists - shottings count per State\n",
    "State_Shooting = pd.DataFrame(GunVoilenceRawData_df.groupby(['state']).size())\n",
    "State_Shooting= State_Shooting.reset_index()\n",
    "State_Shooting.columns = ['state','ShootingCount']\n",
    "State_Shooting = State_Shooting.set_index('state')\n",
    "State_Shooting.head()"
   ]
  },
  {
   "cell_type": "code",
   "execution_count": null,
   "metadata": {},
   "outputs": [],
   "source": [
    "# Build State Abbrev Dataframe\n",
    "\n",
    "us_state_abbrev = {\n",
    "    'Alabama': 'AL',\n",
    "    'Alaska': 'AK',\n",
    "    'Arizona': 'AZ',\n",
    "    'Arkansas': 'AR',\n",
    "    'California': 'CA',\n",
    "    'Colorado': 'CO',\n",
    "    'Connecticut': 'CT',\n",
    "    'Delaware': 'DE',\n",
    "    'Florida': 'FL',\n",
    "    'Georgia': 'GA',\n",
    "    'Hawaii': 'HI',\n",
    "    'Idaho': 'ID',\n",
    "    'Illinois': 'IL',\n",
    "    'Indiana': 'IN',\n",
    "    'Iowa': 'IA',\n",
    "    'Kansas': 'KS',\n",
    "    'Kentucky': 'KY',\n",
    "    'Louisiana': 'LA',\n",
    "    'Maine': 'ME',\n",
    "    'Maryland': 'MD',\n",
    "    'Massachusetts': 'MA',\n",
    "    'Michigan': 'MI',\n",
    "    'Minnesota': 'MN',\n",
    "    'Mississippi': 'MS',\n",
    "    'Missouri': 'MO',\n",
    "    'Montana': 'MT',\n",
    "    'Nebraska': 'NE',\n",
    "    'Nevada': 'NV',\n",
    "    'New Hampshire': 'NH',\n",
    "    'New Jersey': 'NJ',\n",
    "    'New Mexico': 'NM',\n",
    "    'New York': 'NY',\n",
    "    'North Carolina': 'NC',\n",
    "    'North Dakota': 'ND',\n",
    "    'Ohio': 'OH',\n",
    "    'Oklahoma': 'OK',\n",
    "    'Oregon': 'OR',\n",
    "    'Pennsylvania': 'PA',\n",
    "    'Rhode Island': 'RI',\n",
    "    'South Carolina': 'SC',\n",
    "    'South Dakota': 'SD',\n",
    "    'Tennessee': 'TN',\n",
    "    'Texas': 'TX',\n",
    "    'Utah': 'UT',\n",
    "    'Vermont': 'VT',\n",
    "    'Virginia': 'VA',\n",
    "    'Washington': 'WA',\n",
    "    'West Virginia': 'WV',\n",
    "    'Wisconsin': 'WI',\n",
    "    'Wyoming': 'WY',\n",
    "}\n",
    "\n",
    "\n",
    "State_Abbrev=pd.DataFrame.from_dict(us_state_abbrev,orient='index')\n",
    "State_Abbrev.index.name = 'state'\n",
    "State_Abbrev = State_Abbrev.rename(index = str, columns = {0:\"state_abbrev\"})\n",
    "\n",
    "State_Abbrev.head()"
   ]
  },
  {
   "cell_type": "code",
   "execution_count": null,
   "metadata": {},
   "outputs": [],
   "source": [
    "# To facilitate visualisation, merge State Abbreviation dataframe with State Shooting dataframe\n",
    "StateAbbrev_Shooting = pd.concat([State_Shooting, State_Abbrev], axis=1, join='outer')\n",
    "StateAbbrev_Shooting.head()"
   ]
  },
  {
   "cell_type": "code",
   "execution_count": null,
   "metadata": {},
   "outputs": [],
   "source": [
    "# Visualize Shootings by State\n",
    "\n",
    "\n",
    "for col in StateAbbrev_Shooting.columns:\n",
    "    StateAbbrev_Shooting[col] = StateAbbrev_Shooting[col].astype(str)\n",
    "\n",
    "scl = [[0.0, 'rgb(242,240,247)'],[0.2, 'rgb(218,218,235)'],[0.4, 'rgb(188,189,220)'],\\\n",
    "            [0.6, 'rgb(158,154,200)'],[0.8, 'rgb(117,107,177)'],[1.0, 'rgb(84,39,143)']]\n",
    "\n",
    "\n",
    "data = [ dict(\n",
    "        type='choropleth',\n",
    "        colorscale = scl,\n",
    "        autocolorscale = False,\n",
    "        locations = StateAbbrev_Shooting['state_abbrev'],\n",
    "        z = StateAbbrev_Shooting['ShootingCount'].astype(float),\n",
    "        locationmode = 'USA-states',\n",
    "        marker = dict(\n",
    "            line = dict (\n",
    "                color = 'rgb(255,255,255)',\n",
    "                width = 2\n",
    "            ) ),\n",
    "        colorbar = dict(\n",
    "            title = 'Shootings Count')\n",
    "        ) ]\n",
    "\n",
    "layout = dict(\n",
    "        title = '2014-2018 US Shootings Count by State',\n",
    "        geo = dict(\n",
    "            scope='usa',\n",
    "            projection=dict( type='albers usa' ),\n",
    "            showlakes = None)\n",
    "             )\n",
    "    \n",
    "fig = dict( data=data, layout=layout )\n",
    "py.iplot( fig, filename='2014-2018 US Shootings Count by State' )\n"
   ]
  },
  {
   "cell_type": "code",
   "execution_count": null,
   "metadata": {},
   "outputs": [],
   "source": []
  },
  {
   "cell_type": "markdown",
   "metadata": {},
   "source": [
    "# Shooting and Killed by time"
   ]
  },
  {
   "cell_type": "code",
   "execution_count": null,
   "metadata": {},
   "outputs": [],
   "source": [
    "ShootingTime = pd.DataFrame(GunVoilenceRawData_df.groupby(['date']).size())\n",
    "ShootingTime = ShootingTime.reset_index()\n",
    "ShootingTime.columns = ['Date','ShootingCount']\n",
    "ShootingTime['Date'] =pd.to_datetime(ShootingTime['Date'], format='%m/%d/%Y')\n",
    "ShootingTime = ShootingTime.sort_values('Date')\n",
    "ShootingTime.head()\n"
   ]
  },
  {
   "cell_type": "code",
   "execution_count": null,
   "metadata": {},
   "outputs": [],
   "source": [
    "\n",
    "VictimsTime = pd.DataFrame(GunVoilenceRawData_df.groupby(['date'])['Victims'].sum())\n",
    "VictimsTime = VictimsTime.reset_index()\n",
    "VictimsTime.columns = ['Date','Victims']\n",
    "VictimsTime['Date'] =pd.to_datetime(VictimsTime['Date'], format='%m/%d/%Y')\n",
    "VictimsTime= VictimsTime.sort_values('Date')\n",
    "VictimsTime.head()"
   ]
  },
  {
   "cell_type": "code",
   "execution_count": null,
   "metadata": {
    "scrolled": true
   },
   "outputs": [],
   "source": [
    "ShootingTimeData = go.Scatter(\n",
    "                  x=ShootingTime.Date,\n",
    "                  y=ShootingTime['ShootingCount'], name = \"ShootingCount\",\n",
    "                  line = dict(color = '#17BECF'))\n",
    "\n",
    "VictimsTimeData = go.Scatter(\n",
    "                  x=VictimsTime.Date,\n",
    "                  y=VictimsTime['Victims'], name = \"Victims\",\n",
    "                  line = dict(color = '#7F7F7F'))\n",
    "\n",
    "TimeData = [ShootingTimeData,VictimsTimeData]\n",
    "\n",
    "layout = dict(\n",
    "    title='Shooting and Victims by Time',\n",
    "    xaxis=dict(\n",
    "        rangeselector=dict(\n",
    "            buttons=list([\n",
    "                dict(count=1,\n",
    "                     label='6m',\n",
    "                     step='month',\n",
    "                     stepmode='backward'),\n",
    "                dict(count=6,\n",
    "                     label='12m',\n",
    "                     step='month',\n",
    "                     stepmode='backward'),\n",
    "                dict(step='all')\n",
    "            ])\n",
    "        ),\n",
    "        rangeslider=dict(),\n",
    "        type='date'\n",
    "    )\n",
    ")\n",
    "\n",
    "\n",
    "fig = dict(data=TimeData, layout=layout)\n",
    "py.iplot(fig, filename = \"Shooting and Victims by Time\")\n"
   ]
  },
  {
   "cell_type": "markdown",
   "metadata": {},
   "source": [
    "# Shooting and Victims by Month"
   ]
  },
  {
   "cell_type": "code",
   "execution_count": null,
   "metadata": {},
   "outputs": [],
   "source": [
    "\n",
    "VictimsTime = pd.DataFrame(GunVoilenceRawData_df.groupby(['date'])['Victims'].sum())\n",
    "VictimsTime = VictimsTime.reset_index()\n",
    "VictimsTime.columns = ['Date','Victims']\n",
    "VictimsTime['Date'] =pd.to_datetime(VictimsTime['Date'], format='%m/%d/%Y')\n",
    "VictimsTime['Month and Year'] = VictimsTime['Date'].dt.to_period('M')\n",
    "VictimsTime = VictimsTime.set_index('Month and Year')\n",
    "VictimsTime = pd.DataFrame(VictimsTime.groupby(['Month and Year']).sum())\n",
    "# VictimsTime.head()\n",
    "ShootingTime = pd.DataFrame(GunVoilenceRawData_df.groupby(['date']).size())\n",
    "ShootingTime = ShootingTime.reset_index()\n",
    "ShootingTime.columns = ['Date','ShootingCount']\n",
    "ShootingTime['Date'] =pd.to_datetime(ShootingTime['Date'], format='%m/%d/%Y')\n",
    "ShootingTime['Month and Year'] = ShootingTime['Date'].dt.to_period('M')\n",
    "ShootingTime = ShootingTime.set_index('Month and Year')\n",
    "ShootingTime = pd.DataFrame(ShootingTime.groupby(['Month and Year']).sum())\n",
    "# ShootingTime.head()\n",
    "GunViolence_Time=pd.concat([ShootingTime, VictimsTime], axis=1, join_axes=[ShootingTime.index])\n",
    "GunViolence_Time.head()\n",
    "GunViolence_Time.plot.line()\n",
    "for ax in plt.gcf().axes:\n",
    "    ax.get_lines()[0].set_color('turquoise')\n",
    "    ax.get_lines()[1].set_color('grey')\n",
    "plt.title(\"Shootings and Victims Total by Month\")\n",
    "plt.legend()\n",
    "plt.savefig('ShootingVictimsTotal.jpeg', dpi = 300)\n"
   ]
  },
  {
   "cell_type": "markdown",
   "metadata": {},
   "source": [
    "# Year on year data by state"
   ]
  },
  {
   "cell_type": "code",
   "execution_count": null,
   "metadata": {},
   "outputs": [],
   "source": [
    "#Find valuable data using lists - Year on Year count per State\n",
    "Y2YStateData = pd.DataFrame(GunVoilenceRawData_df.groupby(['state','Year'])['Victims'].sum())\n",
    "Y2YStateData= Y2YStateData.reset_index()\n",
    "Y2YStateData.columns = ['state', 'Year','Victims']\n",
    "Y2YStateData.head()\n",
    "\n",
    "\n",
    "Victim2017Data = pd.DataFrame(GunVoilenceRawData_df.groupby(['state','Year'])['incident_id'].count())\n",
    "Victim2017Data= Victim2017Data.reset_index()\n",
    "Victim2017Data.head()\n",
    "\n",
    "Y2YStateData = Y2YStateData.merge(Victim2017Data[[\"state\", \"Year\",\"incident_id\"]])\n",
    "Y2YStateData.head()"
   ]
  },
  {
   "cell_type": "code",
   "execution_count": null,
   "metadata": {},
   "outputs": [],
   "source": [
    "Lawxls_path = (\"Gun_laws.xlsx\")\n",
    "GunLaw = pd.read_excel(Lawxls_path)\n",
    "GunLaw.head()\n",
    "\n",
    "\n",
    "Populationxls_path = (\"Population2017.xlsx\")\n",
    "Populationxls = pd.read_excel(Populationxls_path)\n",
    "Populationxls.head()\n",
    "\n",
    "\n",
    "# Number killed by state\n",
    "State2017Data = pd.DataFrame(Y2YStateData.loc[Y2YStateData['Year'].isin(['2017']).values])\n",
    "State2017Data= State2017Data.reset_index()\n",
    "State2017Data = State2017Data.merge(GunLaw[[\"AmountofGunLaws\", \"state\"]])\n",
    "State2017Data = State2017Data.merge(Populationxls[[\"population\",\"state\"]])\n",
    "State2017Data[\"PerCapitaVictims\"] = ((State2017Data[\"Victims\"]/State2017Data[\"population\"]) *100000)\n",
    "State2017Data[\"PerCapitaIncident\"] = ((State2017Data[\"incident_id\"]/State2017Data[\"population\"]) *100000)\n",
    "State2017Data = State2017Data.sort_values(\"AmountofGunLaws\", ascending=False)\n",
    "State2017Data.head()"
   ]
  },
  {
   "cell_type": "code",
   "execution_count": null,
   "metadata": {},
   "outputs": [],
   "source": [
    "PerCapitaAverage = round(np.average(State2017Data[\"PerCapitaVictims\"]))\n",
    "GunLawAverage = round(np.average(State2017Data[\"AmountofGunLaws\"]))\n",
    "IncidentAverage = round(np.average(State2017Data[\"PerCapitaIncident\"]))"
   ]
  },
  {
   "cell_type": "code",
   "execution_count": null,
   "metadata": {},
   "outputs": [],
   "source": [
    "plt.figure(figsize=(15,10))\n",
    "plt.plot(State2017Data[\"state\"], State2017Data[\"PerCapitaIncident\"], color=\"red\", linestyle='-',alpha=0.75,linewidth=2)\n",
    "plt.plot(State2017Data[\"state\"], State2017Data[\"AmountofGunLaws\"], color=\"turquoise\", linestyle='-',alpha=0.75,linewidth=2)\n",
    "plt.plot(State2017Data[\"state\"], round(State2017Data[\"PerCapitaVictims\"]), color=\"grey\",linestyle='-',alpha=0.75,linewidth=2)\n",
    "plt.axhline(y=IncidentAverage, color='r', linestyle='--',linewidth=2)\n",
    "plt.axhline(y=PerCapitaAverage, color='grey', linestyle='--',linewidth=2)\n",
    "plt.axhline(y=GunLawAverage, color='turquoise', linestyle='--',linewidth=2)\n",
    "plt.xticks(rotation='vertical')\n",
    "lables = [\"PerCapitaIncident\",\"Amount of Gun Laws\",\"PerCapita Victims\",\"PerCapitaIncident National Avg\",\"PerCapita Victims National Average\",\"Gunlaws National Average\"]\n",
    "plt.legend(lables)\n",
    "plt.title(\"2017 States by Population, Gunlaws and PerCapita (GunViolenceVictims)\")\n",
    "plt.ylabel('GunLaws, PerCapita Victims & Incidents ',fontsize=15)\n",
    "plt.xlabel('States of UN',fontsize=15)\n",
    "plt.savefig('2017StatesGunlawsPerCapita.jpeg')"
   ]
  },
  {
   "cell_type": "code",
   "execution_count": null,
   "metadata": {},
   "outputs": [],
   "source": [
    "USPopulationxls_path = (\"2010to2018USPopulation.xlsx\")\n",
    "USPopulation = pd.read_excel(USPopulationxls_path)\n",
    "USPopulation.head()\n",
    "\n",
    "USVictims = pd.DataFrame(Y2YStateData.groupby(['Year'])['Victims'].sum())\n",
    "USVictims=USVictims.reset_index()\n",
    "\n",
    "USVictims = USVictims.merge(USPopulation[[\"population\",\"Year\"]])\n",
    "\n",
    "USVictims[\"PerCapitaVictims\"] = (USVictims[\"Victims\"]/USVictims[\"population\"] *100000)\n",
    "\n",
    "USVictims = USVictims[(USVictims.Year != 2018)]\n",
    "\n",
    "for i in range(1, len(USVictims)):\n",
    "    USVictims.loc[i, \"PopGrowthRate\"] = ((USVictims.loc[i, 'population'] - USVictims.loc[i-1, 'population']) /USVictims.loc[i-1, 'population'])*100\n",
    "for i in range(1, len(USVictims)):\n",
    "    USVictims.loc[i, \"PerCapitaVictimRate\"] = ((USVictims.loc[i, 'PerCapitaVictims'] - USVictims.loc[i-1, 'PerCapitaVictims']) /USVictims.loc[i-1, 'PerCapitaVictims'])*100\n",
    "# USVictims = USVictims[(USVictims.Year != 2014)]\n",
    "USVictims"
   ]
  },
  {
   "cell_type": "code",
   "execution_count": null,
   "metadata": {},
   "outputs": [],
   "source": [
    "plt.figure(figsize=(15,10))\n",
    "plt.plot(USVictims[\"Year\"], USVictims[\"PopGrowthRate\"], color=\"red\", linestyle='-',alpha=0.75,linewidth=2)\n",
    "plt.plot(USVictims[\"Year\"], USVictims[\"PerCapitaVictimRate\"], color=\"green\", linestyle='-',alpha=0.75,linewidth=2)\n",
    "#  plt.plot(USVictims[\"Year\"], USVictims[\"population\"], color=\"red\", linestyle='-',alpha=0.75,linewidth=2)"
   ]
  },
  {
   "cell_type": "code",
   "execution_count": null,
   "metadata": {},
   "outputs": [],
   "source": [
    "f, (ax, ax2) = plt.subplots(2, 1, sharex=True)\n",
    "# plt.plot(USVictims[\"Year\"].astype(str), USVictims[\"PerCapita\"], color=\"navy\", linestyle='--',alpha=0.75,linewidth=2,marker=\"o\")\n",
    "ax2.plot(USVictims[\"Year\"].astype(str), USVictims[\"PerCapitaVictimRate\"], color=\"red\", linestyle='-',alpha=0.75,linewidth=2,marker=\"o\")\n",
    "ax.plot(USVictims[\"Year\"].astype(str), USVictims[\"PopGrowthRate\"], color=\"green\", linestyle='-',alpha=0.75,linewidth=2,marker=\"o\")\n",
    "ax.spines['bottom'].set_visible(False)\n",
    "ax2.spines['top'].set_visible(False)\n",
    "plt.title(\"Growth Rate of Population & Victim PerCapita over years\")\n",
    "plt.savefig('GrowthRate.png', dpi = 300)"
   ]
  },
  {
   "cell_type": "code",
   "execution_count": null,
   "metadata": {},
   "outputs": [],
   "source": [
    "# Number of killed by state\n",
    "StateData = pd.DataFrame(Y2YStateData.groupby(['state'])['incident_id'].sum())\n",
    "StateData= StateData.reset_index()\n",
    "StateData.head()"
   ]
  },
  {
   "cell_type": "code",
   "execution_count": null,
   "metadata": {},
   "outputs": [],
   "source": [
    "# Melody to plot\n"
   ]
  },
  {
   "cell_type": "code",
   "execution_count": null,
   "metadata": {},
   "outputs": [],
   "source": [
    "# Number of killed vs injured data\n",
    "USAKilled = pd.DataFrame(GunVoilenceRawData_df.groupby(['state'])['n_killed'].sum())\n",
    "USAKilled = USAKilled.reset_index()\n",
    "USAInjured = pd.DataFrame(GunVoilenceRawData_df.groupby(['state'])['n_injured'].sum())\n",
    "USAInjured= USAInjured.reset_index()\n",
    "USAInjuredvsKilled = pd.merge(USAKilled,USAInjured, on=['state'])\n",
    "USAInjuredvsKilled[\"Killed%\"] = USAInjuredvsKilled[\"n_killed\"]/(USAInjuredvsKilled[\"n_killed\"]+USAInjuredvsKilled[\"n_injured\"])\n",
    "USAInjuredvsKilled[\"Injured%\"] = USAInjuredvsKilled[\"n_injured\"]/(USAInjuredvsKilled[\"n_killed\"]+USAInjuredvsKilled[\"n_injured\"])\n",
    "USAInjuredvsKilled.head()"
   ]
  },
  {
   "cell_type": "code",
   "execution_count": null,
   "metadata": {},
   "outputs": [],
   "source": [
    "# Melody to plot"
   ]
  },
  {
   "cell_type": "code",
   "execution_count": null,
   "metadata": {},
   "outputs": [],
   "source": [
    "# Texas and California - Number of killed vs injured data\n",
    "TexasCalifornia = USAInjuredvsKilled.loc[USAInjuredvsKilled['state'].isin(['Texas','California'])]\n",
    "TexasCalifornia"
   ]
  },
  {
   "cell_type": "code",
   "execution_count": null,
   "metadata": {},
   "outputs": [],
   "source": []
  },
  {
   "cell_type": "code",
   "execution_count": null,
   "metadata": {},
   "outputs": [],
   "source": [
    "#People killed by month\n",
    "MonthWiseKilled = pd.DataFrame(GunVoilenceRawData_df.groupby(['Year','Month'])['n_killed'].sum())\n",
    "MonthWiseKilled= MonthWiseKilled.reset_index()\n",
    "MonthWiseKilled.head()"
   ]
  },
  {
   "cell_type": "code",
   "execution_count": null,
   "metadata": {},
   "outputs": [],
   "source": [
    "# Melody to plot"
   ]
  },
  {
   "cell_type": "code",
   "execution_count": null,
   "metadata": {},
   "outputs": [],
   "source": [
    "#People killed by month\n",
    "MonthWiseInjured = pd.DataFrame(GunVoilenceRawData_df.groupby(['Year','Month'])['n_injured'].sum())\n",
    "MonthWiseInjured= MonthWiseInjured.reset_index()\n",
    "MonthWiseInjured.head()"
   ]
  },
  {
   "cell_type": "code",
   "execution_count": null,
   "metadata": {},
   "outputs": [],
   "source": [
    "#Gun violence by congressional district\n",
    "DistrictWise_Data = pd.DataFrame(GunVoilenceRawData_df.groupby(['state','congressional_district']).size())\n",
    "DistrictWise_Data= DistrictWise_Data.reset_index()\n",
    "DistrictWise_Data.columns = ['state', 'congressional_district','ShootingCount']\n",
    "DistrictWise_Data.count()"
   ]
  },
  {
   "cell_type": "code",
   "execution_count": null,
   "metadata": {},
   "outputs": [],
   "source": [
    "# Melody to plot"
   ]
  },
  {
   "cell_type": "code",
   "execution_count": null,
   "metadata": {},
   "outputs": [],
   "source": [
    "#Merge/Rename columns if any overlap with different data"
   ]
  },
  {
   "cell_type": "code",
   "execution_count": null,
   "metadata": {},
   "outputs": [],
   "source": [
    "#Add columns to generate more specific data that could be useful for analysis"
   ]
  },
  {
   "cell_type": "code",
   "execution_count": null,
   "metadata": {},
   "outputs": [],
   "source": [
    "#Add Bins putting data into catagories if numbers are involved"
   ]
  },
  {
   "cell_type": "code",
   "execution_count": null,
   "metadata": {},
   "outputs": [],
   "source": [
    "# Find total/average data - use indexes"
   ]
  },
  {
   "cell_type": "code",
   "execution_count": null,
   "metadata": {},
   "outputs": [],
   "source": [
    "#Sort Data "
   ]
  },
  {
   "cell_type": "code",
   "execution_count": null,
   "metadata": {},
   "outputs": [],
   "source": [
    "#Find amount of tweets/social media used to cover the topic chosen"
   ]
  },
  {
   "cell_type": "code",
   "execution_count": null,
   "metadata": {},
   "outputs": [],
   "source": [
    "#Use API url/query to gather information to determine other data"
   ]
  },
  {
   "cell_type": "code",
   "execution_count": null,
   "metadata": {},
   "outputs": [],
   "source": [
    "#Create Dataframe for Data showing the type of data, when it occured, how it occured, etc."
   ]
  },
  {
   "cell_type": "code",
   "execution_count": null,
   "metadata": {},
   "outputs": [],
   "source": [
    "#Plot Pie Graph to show percentages of Data"
   ]
  },
  {
   "cell_type": "code",
   "execution_count": null,
   "metadata": {},
   "outputs": [],
   "source": [
    "#Plot Bar Graph/Line Graph/Scatter to show correlations between Data "
   ]
  },
  {
   "cell_type": "code",
   "execution_count": null,
   "metadata": {},
   "outputs": [],
   "source": [
    "#Explain trend(Education level vs. Unemployment level per zones)\n",
    "#Explain trend (Education level vs. Median Age)\n",
    "#Explain trend (Education level vs. Household income)\n",
    "#Explain trend "
   ]
  },
  {
   "cell_type": "code",
   "execution_count": null,
   "metadata": {},
   "outputs": [],
   "source": [
    "#Export Graph images"
   ]
  }
 ],
 "metadata": {
  "kernelspec": {
   "display_name": "Python [default]",
   "language": "python",
   "name": "python3"
  },
  "language_info": {
   "codemirror_mode": {
    "name": "ipython",
    "version": 3
   },
   "file_extension": ".py",
   "mimetype": "text/x-python",
   "name": "python",
   "nbconvert_exporter": "python",
   "pygments_lexer": "ipython3",
   "version": "3.6.4"
  }
 },
 "nbformat": 4,
 "nbformat_minor": 2
}
